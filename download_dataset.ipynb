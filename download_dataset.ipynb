{
 "cells": [
  {
   "cell_type": "markdown",
   "metadata": {},
   "source": [
    "# Downloading Dataset from Kaggle"
   ]
  },
  {
   "cell_type": "code",
   "execution_count": null,
   "metadata": {},
   "outputs": [
    {
     "name": "stdout",
     "output_type": "stream",
     "text": [
      "Dataset URL: https://www.kaggle.com/datasets/ankushpanday1/alzheimers-prediction-dataset-global\n"
     ]
    }
   ],
   "source": [
    "# Loading the dataset using the kaggle python package, a wrapper around the kaggle API\n",
    "import kaggle\n",
    "import os\n",
    "\n",
    "kaggle.api.authenticate()  # To use the api, a kaggle.json file is necessary for authentication information. For more info: https://www.kaggle.com/docs/api\n",
    "\n",
    "# In place of using the kaggle wrapper, the same dataset may be downloaded directly from here: https://www.kaggle.com/datasets/hugomathien/soccer\n",
    "if not os.path.isfile('data/alzheimers.csv'):\n",
    "    kaggle.api.dataset_download_files(  # Downloads a dataset given the slug for owner/dataset_name, unzip=True unzips files on download, path is specified to ./data\n",
    "        \"ankushpanday1/alzheimers-prediction-dataset-global\", unzip=True, path=\"data\"\n",
    "    )\n",
    "    os.rename('data/alzheimers_prediction_dataset.csv', 'data/alzheimers.csv')"
   ]
  }
 ],
 "metadata": {
  "kernelspec": {
   "display_name": "Python 3",
   "language": "python",
   "name": "python3"
  },
  "language_info": {
   "codemirror_mode": {
    "name": "ipython",
    "version": 3
   },
   "file_extension": ".py",
   "mimetype": "text/x-python",
   "name": "python",
   "nbconvert_exporter": "python",
   "pygments_lexer": "ipython3",
   "version": "3.12.3"
  }
 },
 "nbformat": 4,
 "nbformat_minor": 2
}
