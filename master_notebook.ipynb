{
 "cells": [
  {
   "cell_type": "markdown",
   "id": "ee5540b1",
   "metadata": {},
   "source": [
    "# Exploring the Alzheimer's prediction dataset from [kaggle](https://www.kaggle.com/datasets/ankushpanday1/alzheimers-prediction-dataset-global)"
   ]
  },
  {
   "cell_type": "markdown",
   "id": "c9325baa",
   "metadata": {},
   "source": [
    "### Loading the Dataset"
   ]
  },
  {
   "cell_type": "code",
   "execution_count": 1,
   "id": "ec2ab1cb",
   "metadata": {},
   "outputs": [],
   "source": [
    "import pandas as pd\n",
    "\n",
    "alzheimers = pd.read_csv(\"data/alzheimers.csv\")"
   ]
  },
  {
   "cell_type": "markdown",
   "id": "5923cdac",
   "metadata": {},
   "source": [
    "### Summary Statistics"
   ]
  },
  {
   "cell_type": "code",
   "execution_count": null,
   "id": "40487b84",
   "metadata": {},
   "outputs": [
    {
     "data": {
      "text/html": [
       "<style type=\"text/css\">\n",
       "</style>\n",
       "<table id=\"T_58f45\">\n",
       "  <caption>Numerical Columns</caption>\n",
       "  <thead>\n",
       "    <tr>\n",
       "      <th class=\"blank level0\" >&nbsp;</th>\n",
       "      <th id=\"T_58f45_level0_col0\" class=\"col_heading level0 col0\" >Age</th>\n",
       "      <th id=\"T_58f45_level0_col1\" class=\"col_heading level0 col1\" >Education Level</th>\n",
       "      <th id=\"T_58f45_level0_col2\" class=\"col_heading level0 col2\" >BMI</th>\n",
       "      <th id=\"T_58f45_level0_col3\" class=\"col_heading level0 col3\" >Cognitive Test Score</th>\n",
       "    </tr>\n",
       "  </thead>\n",
       "  <tbody>\n",
       "    <tr>\n",
       "      <th id=\"T_58f45_level0_row0\" class=\"row_heading level0 row0\" >count</th>\n",
       "      <td id=\"T_58f45_row0_col0\" class=\"data row0 col0\" >74283.000000</td>\n",
       "      <td id=\"T_58f45_row0_col1\" class=\"data row0 col1\" >74283.000000</td>\n",
       "      <td id=\"T_58f45_row0_col2\" class=\"data row0 col2\" >74283.000000</td>\n",
       "      <td id=\"T_58f45_row0_col3\" class=\"data row0 col3\" >74283.000000</td>\n",
       "    </tr>\n",
       "    <tr>\n",
       "      <th id=\"T_58f45_level0_row1\" class=\"row_heading level0 row1\" >mean</th>\n",
       "      <td id=\"T_58f45_row1_col0\" class=\"data row1 col0\" >71.964703</td>\n",
       "      <td id=\"T_58f45_row1_col1\" class=\"data row1 col1\" >9.487514</td>\n",
       "      <td id=\"T_58f45_row1_col2\" class=\"data row1 col2\" >26.780639</td>\n",
       "      <td id=\"T_58f45_row1_col3\" class=\"data row1 col3\" >64.654241</td>\n",
       "    </tr>\n",
       "    <tr>\n",
       "      <th id=\"T_58f45_level0_row2\" class=\"row_heading level0 row2\" >std</th>\n",
       "      <td id=\"T_58f45_row2_col0\" class=\"data row2 col0\" >12.980748</td>\n",
       "      <td id=\"T_58f45_row2_col1\" class=\"data row2 col1\" >5.757020</td>\n",
       "      <td id=\"T_58f45_row2_col2\" class=\"data row2 col2\" >4.764679</td>\n",
       "      <td id=\"T_58f45_row2_col3\" class=\"data row2 col3\" >20.153247</td>\n",
       "    </tr>\n",
       "    <tr>\n",
       "      <th id=\"T_58f45_level0_row3\" class=\"row_heading level0 row3\" >min</th>\n",
       "      <td id=\"T_58f45_row3_col0\" class=\"data row3 col0\" >50.000000</td>\n",
       "      <td id=\"T_58f45_row3_col1\" class=\"data row3 col1\" >0.000000</td>\n",
       "      <td id=\"T_58f45_row3_col2\" class=\"data row3 col2\" >18.500000</td>\n",
       "      <td id=\"T_58f45_row3_col3\" class=\"data row3 col3\" >30.000000</td>\n",
       "    </tr>\n",
       "    <tr>\n",
       "      <th id=\"T_58f45_level0_row4\" class=\"row_heading level0 row4\" >25%</th>\n",
       "      <td id=\"T_58f45_row4_col0\" class=\"data row4 col0\" >61.000000</td>\n",
       "      <td id=\"T_58f45_row4_col1\" class=\"data row4 col1\" >4.000000</td>\n",
       "      <td id=\"T_58f45_row4_col2\" class=\"data row4 col2\" >22.700000</td>\n",
       "      <td id=\"T_58f45_row4_col3\" class=\"data row4 col3\" >47.000000</td>\n",
       "    </tr>\n",
       "    <tr>\n",
       "      <th id=\"T_58f45_level0_row5\" class=\"row_heading level0 row5\" >50%</th>\n",
       "      <td id=\"T_58f45_row5_col0\" class=\"data row5 col0\" >72.000000</td>\n",
       "      <td id=\"T_58f45_row5_col1\" class=\"data row5 col1\" >9.000000</td>\n",
       "      <td id=\"T_58f45_row5_col2\" class=\"data row5 col2\" >26.800000</td>\n",
       "      <td id=\"T_58f45_row5_col3\" class=\"data row5 col3\" >65.000000</td>\n",
       "    </tr>\n",
       "    <tr>\n",
       "      <th id=\"T_58f45_level0_row6\" class=\"row_heading level0 row6\" >75%</th>\n",
       "      <td id=\"T_58f45_row6_col0\" class=\"data row6 col0\" >83.000000</td>\n",
       "      <td id=\"T_58f45_row6_col1\" class=\"data row6 col1\" >14.000000</td>\n",
       "      <td id=\"T_58f45_row6_col2\" class=\"data row6 col2\" >30.900000</td>\n",
       "      <td id=\"T_58f45_row6_col3\" class=\"data row6 col3\" >82.000000</td>\n",
       "    </tr>\n",
       "    <tr>\n",
       "      <th id=\"T_58f45_level0_row7\" class=\"row_heading level0 row7\" >max</th>\n",
       "      <td id=\"T_58f45_row7_col0\" class=\"data row7 col0\" >94.000000</td>\n",
       "      <td id=\"T_58f45_row7_col1\" class=\"data row7 col1\" >19.000000</td>\n",
       "      <td id=\"T_58f45_row7_col2\" class=\"data row7 col2\" >35.000000</td>\n",
       "      <td id=\"T_58f45_row7_col3\" class=\"data row7 col3\" >99.000000</td>\n",
       "    </tr>\n",
       "  </tbody>\n",
       "</table>\n"
      ],
      "text/plain": [
       "<pandas.io.formats.style.Styler at 0x2e078231c30>"
      ]
     },
     "metadata": {},
     "output_type": "display_data"
    },
    {
     "data": {
      "text/html": [
       "<style type=\"text/css\">\n",
       "</style>\n",
       "<table id=\"T_4632d\">\n",
       "  <caption>Categorical Columns</caption>\n",
       "  <thead>\n",
       "    <tr>\n",
       "      <th class=\"blank level0\" >&nbsp;</th>\n",
       "      <th id=\"T_4632d_level0_col0\" class=\"col_heading level0 col0\" >Country</th>\n",
       "      <th id=\"T_4632d_level0_col1\" class=\"col_heading level0 col1\" >Gender</th>\n",
       "      <th id=\"T_4632d_level0_col2\" class=\"col_heading level0 col2\" >Physical Activity Level</th>\n",
       "      <th id=\"T_4632d_level0_col3\" class=\"col_heading level0 col3\" >Smoking Status</th>\n",
       "      <th id=\"T_4632d_level0_col4\" class=\"col_heading level0 col4\" >Alcohol Consumption</th>\n",
       "      <th id=\"T_4632d_level0_col5\" class=\"col_heading level0 col5\" >Diabetes</th>\n",
       "      <th id=\"T_4632d_level0_col6\" class=\"col_heading level0 col6\" >Hypertension</th>\n",
       "      <th id=\"T_4632d_level0_col7\" class=\"col_heading level0 col7\" >Cholesterol Level</th>\n",
       "      <th id=\"T_4632d_level0_col8\" class=\"col_heading level0 col8\" >Family History of Alzheimer’s</th>\n",
       "      <th id=\"T_4632d_level0_col9\" class=\"col_heading level0 col9\" >Depression Level</th>\n",
       "      <th id=\"T_4632d_level0_col10\" class=\"col_heading level0 col10\" >Sleep Quality</th>\n",
       "      <th id=\"T_4632d_level0_col11\" class=\"col_heading level0 col11\" >Dietary Habits</th>\n",
       "      <th id=\"T_4632d_level0_col12\" class=\"col_heading level0 col12\" >Air Pollution Exposure</th>\n",
       "      <th id=\"T_4632d_level0_col13\" class=\"col_heading level0 col13\" >Employment Status</th>\n",
       "      <th id=\"T_4632d_level0_col14\" class=\"col_heading level0 col14\" >Marital Status</th>\n",
       "      <th id=\"T_4632d_level0_col15\" class=\"col_heading level0 col15\" >Genetic Risk Factor (APOE-ε4 allele)</th>\n",
       "      <th id=\"T_4632d_level0_col16\" class=\"col_heading level0 col16\" >Social Engagement Level</th>\n",
       "      <th id=\"T_4632d_level0_col17\" class=\"col_heading level0 col17\" >Income Level</th>\n",
       "      <th id=\"T_4632d_level0_col18\" class=\"col_heading level0 col18\" >Stress Levels</th>\n",
       "      <th id=\"T_4632d_level0_col19\" class=\"col_heading level0 col19\" >Urban vs Rural Living</th>\n",
       "      <th id=\"T_4632d_level0_col20\" class=\"col_heading level0 col20\" >Alzheimer’s Diagnosis</th>\n",
       "    </tr>\n",
       "  </thead>\n",
       "  <tbody>\n",
       "    <tr>\n",
       "      <th id=\"T_4632d_level0_row0\" class=\"row_heading level0 row0\" >count</th>\n",
       "      <td id=\"T_4632d_row0_col0\" class=\"data row0 col0\" >74283</td>\n",
       "      <td id=\"T_4632d_row0_col1\" class=\"data row0 col1\" >74283</td>\n",
       "      <td id=\"T_4632d_row0_col2\" class=\"data row0 col2\" >74283</td>\n",
       "      <td id=\"T_4632d_row0_col3\" class=\"data row0 col3\" >74283</td>\n",
       "      <td id=\"T_4632d_row0_col4\" class=\"data row0 col4\" >74283</td>\n",
       "      <td id=\"T_4632d_row0_col5\" class=\"data row0 col5\" >74283</td>\n",
       "      <td id=\"T_4632d_row0_col6\" class=\"data row0 col6\" >74283</td>\n",
       "      <td id=\"T_4632d_row0_col7\" class=\"data row0 col7\" >74283</td>\n",
       "      <td id=\"T_4632d_row0_col8\" class=\"data row0 col8\" >74283</td>\n",
       "      <td id=\"T_4632d_row0_col9\" class=\"data row0 col9\" >74283</td>\n",
       "      <td id=\"T_4632d_row0_col10\" class=\"data row0 col10\" >74283</td>\n",
       "      <td id=\"T_4632d_row0_col11\" class=\"data row0 col11\" >74283</td>\n",
       "      <td id=\"T_4632d_row0_col12\" class=\"data row0 col12\" >74283</td>\n",
       "      <td id=\"T_4632d_row0_col13\" class=\"data row0 col13\" >74283</td>\n",
       "      <td id=\"T_4632d_row0_col14\" class=\"data row0 col14\" >74283</td>\n",
       "      <td id=\"T_4632d_row0_col15\" class=\"data row0 col15\" >74283</td>\n",
       "      <td id=\"T_4632d_row0_col16\" class=\"data row0 col16\" >74283</td>\n",
       "      <td id=\"T_4632d_row0_col17\" class=\"data row0 col17\" >74283</td>\n",
       "      <td id=\"T_4632d_row0_col18\" class=\"data row0 col18\" >74283</td>\n",
       "      <td id=\"T_4632d_row0_col19\" class=\"data row0 col19\" >74283</td>\n",
       "      <td id=\"T_4632d_row0_col20\" class=\"data row0 col20\" >74283</td>\n",
       "    </tr>\n",
       "    <tr>\n",
       "      <th id=\"T_4632d_level0_row1\" class=\"row_heading level0 row1\" >unique</th>\n",
       "      <td id=\"T_4632d_row1_col0\" class=\"data row1 col0\" >20</td>\n",
       "      <td id=\"T_4632d_row1_col1\" class=\"data row1 col1\" >2</td>\n",
       "      <td id=\"T_4632d_row1_col2\" class=\"data row1 col2\" >3</td>\n",
       "      <td id=\"T_4632d_row1_col3\" class=\"data row1 col3\" >3</td>\n",
       "      <td id=\"T_4632d_row1_col4\" class=\"data row1 col4\" >3</td>\n",
       "      <td id=\"T_4632d_row1_col5\" class=\"data row1 col5\" >2</td>\n",
       "      <td id=\"T_4632d_row1_col6\" class=\"data row1 col6\" >2</td>\n",
       "      <td id=\"T_4632d_row1_col7\" class=\"data row1 col7\" >2</td>\n",
       "      <td id=\"T_4632d_row1_col8\" class=\"data row1 col8\" >2</td>\n",
       "      <td id=\"T_4632d_row1_col9\" class=\"data row1 col9\" >3</td>\n",
       "      <td id=\"T_4632d_row1_col10\" class=\"data row1 col10\" >3</td>\n",
       "      <td id=\"T_4632d_row1_col11\" class=\"data row1 col11\" >3</td>\n",
       "      <td id=\"T_4632d_row1_col12\" class=\"data row1 col12\" >3</td>\n",
       "      <td id=\"T_4632d_row1_col13\" class=\"data row1 col13\" >3</td>\n",
       "      <td id=\"T_4632d_row1_col14\" class=\"data row1 col14\" >3</td>\n",
       "      <td id=\"T_4632d_row1_col15\" class=\"data row1 col15\" >2</td>\n",
       "      <td id=\"T_4632d_row1_col16\" class=\"data row1 col16\" >3</td>\n",
       "      <td id=\"T_4632d_row1_col17\" class=\"data row1 col17\" >3</td>\n",
       "      <td id=\"T_4632d_row1_col18\" class=\"data row1 col18\" >3</td>\n",
       "      <td id=\"T_4632d_row1_col19\" class=\"data row1 col19\" >2</td>\n",
       "      <td id=\"T_4632d_row1_col20\" class=\"data row1 col20\" >2</td>\n",
       "    </tr>\n",
       "    <tr>\n",
       "      <th id=\"T_4632d_level0_row2\" class=\"row_heading level0 row2\" >top</th>\n",
       "      <td id=\"T_4632d_row2_col0\" class=\"data row2 col0\" >Brazil</td>\n",
       "      <td id=\"T_4632d_row2_col1\" class=\"data row2 col1\" >Female</td>\n",
       "      <td id=\"T_4632d_row2_col2\" class=\"data row2 col2\" >High</td>\n",
       "      <td id=\"T_4632d_row2_col3\" class=\"data row2 col3\" >Current</td>\n",
       "      <td id=\"T_4632d_row2_col4\" class=\"data row2 col4\" >Never</td>\n",
       "      <td id=\"T_4632d_row2_col5\" class=\"data row2 col5\" >No</td>\n",
       "      <td id=\"T_4632d_row2_col6\" class=\"data row2 col6\" >No</td>\n",
       "      <td id=\"T_4632d_row2_col7\" class=\"data row2 col7\" >Normal</td>\n",
       "      <td id=\"T_4632d_row2_col8\" class=\"data row2 col8\" >No</td>\n",
       "      <td id=\"T_4632d_row2_col9\" class=\"data row2 col9\" >Medium</td>\n",
       "      <td id=\"T_4632d_row2_col10\" class=\"data row2 col10\" >Good</td>\n",
       "      <td id=\"T_4632d_row2_col11\" class=\"data row2 col11\" >Average</td>\n",
       "      <td id=\"T_4632d_row2_col12\" class=\"data row2 col12\" >High</td>\n",
       "      <td id=\"T_4632d_row2_col13\" class=\"data row2 col13\" >Unemployed</td>\n",
       "      <td id=\"T_4632d_row2_col14\" class=\"data row2 col14\" >Single</td>\n",
       "      <td id=\"T_4632d_row2_col15\" class=\"data row2 col15\" >No</td>\n",
       "      <td id=\"T_4632d_row2_col16\" class=\"data row2 col16\" >Medium</td>\n",
       "      <td id=\"T_4632d_row2_col17\" class=\"data row2 col17\" >Low</td>\n",
       "      <td id=\"T_4632d_row2_col18\" class=\"data row2 col18\" >Medium</td>\n",
       "      <td id=\"T_4632d_row2_col19\" class=\"data row2 col19\" >Rural</td>\n",
       "      <td id=\"T_4632d_row2_col20\" class=\"data row2 col20\" >No</td>\n",
       "    </tr>\n",
       "    <tr>\n",
       "      <th id=\"T_4632d_level0_row3\" class=\"row_heading level0 row3\" >freq</th>\n",
       "      <td id=\"T_4632d_row3_col0\" class=\"data row3 col0\" >3839</td>\n",
       "      <td id=\"T_4632d_row3_col1\" class=\"data row3 col1\" >37249</td>\n",
       "      <td id=\"T_4632d_row3_col2\" class=\"data row3 col2\" >24853</td>\n",
       "      <td id=\"T_4632d_row3_col3\" class=\"data row3 col3\" >24915</td>\n",
       "      <td id=\"T_4632d_row3_col4\" class=\"data row3 col4\" >24865</td>\n",
       "      <td id=\"T_4632d_row3_col5\" class=\"data row3 col5\" >59527</td>\n",
       "      <td id=\"T_4632d_row3_col6\" class=\"data row3 col6\" >52134</td>\n",
       "      <td id=\"T_4632d_row3_col7\" class=\"data row3 col7\" >51973</td>\n",
       "      <td id=\"T_4632d_row3_col8\" class=\"data row3 col8\" >52004</td>\n",
       "      <td id=\"T_4632d_row3_col9\" class=\"data row3 col9\" >24843</td>\n",
       "      <td id=\"T_4632d_row3_col10\" class=\"data row3 col10\" >25145</td>\n",
       "      <td id=\"T_4632d_row3_col11\" class=\"data row3 col11\" >24917</td>\n",
       "      <td id=\"T_4632d_row3_col12\" class=\"data row3 col12\" >24906</td>\n",
       "      <td id=\"T_4632d_row3_col13\" class=\"data row3 col13\" >24801</td>\n",
       "      <td id=\"T_4632d_row3_col14\" class=\"data row3 col14\" >25169</td>\n",
       "      <td id=\"T_4632d_row3_col15\" class=\"data row3 col15\" >59561</td>\n",
       "      <td id=\"T_4632d_row3_col16\" class=\"data row3 col16\" >24859</td>\n",
       "      <td id=\"T_4632d_row3_col17\" class=\"data row3 col17\" >24873</td>\n",
       "      <td id=\"T_4632d_row3_col18\" class=\"data row3 col18\" >24886</td>\n",
       "      <td id=\"T_4632d_row3_col19\" class=\"data row3 col19\" >37203</td>\n",
       "      <td id=\"T_4632d_row3_col20\" class=\"data row3 col20\" >43570</td>\n",
       "    </tr>\n",
       "  </tbody>\n",
       "</table>\n"
      ],
      "text/plain": [
       "<pandas.io.formats.style.Styler at 0x2e076807d30>"
      ]
     },
     "metadata": {},
     "output_type": "display_data"
    },
    {
     "name": "stdout",
     "output_type": "stream",
     "text": [
      "<class 'pandas.core.frame.DataFrame'>\n",
      "RangeIndex: 74283 entries, 0 to 74282\n",
      "Data columns (total 25 columns):\n",
      " #   Column                                Non-Null Count  Dtype  \n",
      "---  ------                                --------------  -----  \n",
      " 0   Country                               74283 non-null  object \n",
      " 1   Age                                   74283 non-null  int64  \n",
      " 2   Gender                                74283 non-null  object \n",
      " 3   Education Level                       74283 non-null  int64  \n",
      " 4   BMI                                   74283 non-null  float64\n",
      " 5   Physical Activity Level               74283 non-null  object \n",
      " 6   Smoking Status                        74283 non-null  object \n",
      " 7   Alcohol Consumption                   74283 non-null  object \n",
      " 8   Diabetes                              74283 non-null  object \n",
      " 9   Hypertension                          74283 non-null  object \n",
      " 10  Cholesterol Level                     74283 non-null  object \n",
      " 11  Family History of Alzheimer’s         74283 non-null  object \n",
      " 12  Cognitive Test Score                  74283 non-null  int64  \n",
      " 13  Depression Level                      74283 non-null  object \n",
      " 14  Sleep Quality                         74283 non-null  object \n",
      " 15  Dietary Habits                        74283 non-null  object \n",
      " 16  Air Pollution Exposure                74283 non-null  object \n",
      " 17  Employment Status                     74283 non-null  object \n",
      " 18  Marital Status                        74283 non-null  object \n",
      " 19  Genetic Risk Factor (APOE-ε4 allele)  74283 non-null  object \n",
      " 20  Social Engagement Level               74283 non-null  object \n",
      " 21  Income Level                          74283 non-null  object \n",
      " 22  Stress Levels                         74283 non-null  object \n",
      " 23  Urban vs Rural Living                 74283 non-null  object \n",
      " 24  Alzheimer’s Diagnosis                 74283 non-null  object \n",
      "dtypes: float64(1), int64(3), object(21)\n",
      "memory usage: 14.2+ MB\n"
     ]
    },
    {
     "data": {
      "text/plain": [
       "None"
      ]
     },
     "metadata": {},
     "output_type": "display_data"
    }
   ],
   "source": [
    "display(alzheimers.describe().style.set_caption(\"Numerical Columns\"))\n",
    "display(alzheimers.select_dtypes(include=\"object\").describe().style.set_caption(\"Categorical Columns\"))\n",
    "display(alzheimers.info())"
   ]
  },
  {
   "cell_type": "markdown",
   "id": "24706b7b",
   "metadata": {},
   "source": [
    "This dataset appears to be very clean.\n",
    "- No missing values, the row counts for each attribute remain consistent for all.\n",
    "- Data types appear as expected.\n",
    "- Frequency counts for categorical variables show a good distribution for each."
   ]
  },
  {
   "cell_type": "markdown",
   "id": "35d22ce0",
   "metadata": {},
   "source": [
    "### Missingness and duplication analysis"
   ]
  },
  {
   "cell_type": "code",
   "execution_count": null,
   "id": "56dfd441",
   "metadata": {},
   "outputs": [
    {
     "data": {
      "application/vnd.microsoft.datawrangler.viewer.v0+json": {
       "columns": [
        {
         "name": "index",
         "rawType": "int64",
         "type": "integer"
        },
        {
         "name": "feature",
         "rawType": "object",
         "type": "string"
        },
        {
         "name": "n_missing",
         "rawType": "int64",
         "type": "integer"
        }
       ],
       "conversionMethod": "pd.DataFrame",
       "ref": "487f94cb-86b1-46e7-8c8d-14056138ee86",
       "rows": [
        [
         "0",
         "Country",
         "0"
        ],
        [
         "1",
         "Age",
         "0"
        ],
        [
         "2",
         "Gender",
         "0"
        ],
        [
         "3",
         "Education Level",
         "0"
        ],
        [
         "4",
         "BMI",
         "0"
        ],
        [
         "5",
         "Physical Activity Level",
         "0"
        ],
        [
         "6",
         "Smoking Status",
         "0"
        ],
        [
         "7",
         "Alcohol Consumption",
         "0"
        ],
        [
         "8",
         "Diabetes",
         "0"
        ],
        [
         "9",
         "Hypertension",
         "0"
        ],
        [
         "10",
         "Cholesterol Level",
         "0"
        ],
        [
         "11",
         "Family History of Alzheimer’s",
         "0"
        ],
        [
         "12",
         "Cognitive Test Score",
         "0"
        ],
        [
         "13",
         "Depression Level",
         "0"
        ],
        [
         "14",
         "Sleep Quality",
         "0"
        ],
        [
         "15",
         "Dietary Habits",
         "0"
        ],
        [
         "16",
         "Air Pollution Exposure",
         "0"
        ],
        [
         "17",
         "Employment Status",
         "0"
        ],
        [
         "18",
         "Marital Status",
         "0"
        ],
        [
         "19",
         "Genetic Risk Factor (APOE-ε4 allele)",
         "0"
        ],
        [
         "20",
         "Social Engagement Level",
         "0"
        ],
        [
         "21",
         "Income Level",
         "0"
        ],
        [
         "22",
         "Stress Levels",
         "0"
        ],
        [
         "23",
         "Urban vs Rural Living",
         "0"
        ],
        [
         "24",
         "Alzheimer’s Diagnosis",
         "0"
        ]
       ],
       "shape": {
        "columns": 2,
        "rows": 25
       }
      },
      "text/html": [
       "<div>\n",
       "<style scoped>\n",
       "    .dataframe tbody tr th:only-of-type {\n",
       "        vertical-align: middle;\n",
       "    }\n",
       "\n",
       "    .dataframe tbody tr th {\n",
       "        vertical-align: top;\n",
       "    }\n",
       "\n",
       "    .dataframe thead th {\n",
       "        text-align: right;\n",
       "    }\n",
       "</style>\n",
       "<table border=\"1\" class=\"dataframe\">\n",
       "  <thead>\n",
       "    <tr style=\"text-align: right;\">\n",
       "      <th></th>\n",
       "      <th>feature</th>\n",
       "      <th>n_missing</th>\n",
       "    </tr>\n",
       "  </thead>\n",
       "  <tbody>\n",
       "    <tr>\n",
       "      <th>0</th>\n",
       "      <td>Country</td>\n",
       "      <td>0</td>\n",
       "    </tr>\n",
       "    <tr>\n",
       "      <th>1</th>\n",
       "      <td>Age</td>\n",
       "      <td>0</td>\n",
       "    </tr>\n",
       "    <tr>\n",
       "      <th>2</th>\n",
       "      <td>Gender</td>\n",
       "      <td>0</td>\n",
       "    </tr>\n",
       "    <tr>\n",
       "      <th>3</th>\n",
       "      <td>Education Level</td>\n",
       "      <td>0</td>\n",
       "    </tr>\n",
       "    <tr>\n",
       "      <th>4</th>\n",
       "      <td>BMI</td>\n",
       "      <td>0</td>\n",
       "    </tr>\n",
       "    <tr>\n",
       "      <th>5</th>\n",
       "      <td>Physical Activity Level</td>\n",
       "      <td>0</td>\n",
       "    </tr>\n",
       "    <tr>\n",
       "      <th>6</th>\n",
       "      <td>Smoking Status</td>\n",
       "      <td>0</td>\n",
       "    </tr>\n",
       "    <tr>\n",
       "      <th>7</th>\n",
       "      <td>Alcohol Consumption</td>\n",
       "      <td>0</td>\n",
       "    </tr>\n",
       "    <tr>\n",
       "      <th>8</th>\n",
       "      <td>Diabetes</td>\n",
       "      <td>0</td>\n",
       "    </tr>\n",
       "    <tr>\n",
       "      <th>9</th>\n",
       "      <td>Hypertension</td>\n",
       "      <td>0</td>\n",
       "    </tr>\n",
       "    <tr>\n",
       "      <th>10</th>\n",
       "      <td>Cholesterol Level</td>\n",
       "      <td>0</td>\n",
       "    </tr>\n",
       "    <tr>\n",
       "      <th>11</th>\n",
       "      <td>Family History of Alzheimer’s</td>\n",
       "      <td>0</td>\n",
       "    </tr>\n",
       "    <tr>\n",
       "      <th>12</th>\n",
       "      <td>Cognitive Test Score</td>\n",
       "      <td>0</td>\n",
       "    </tr>\n",
       "    <tr>\n",
       "      <th>13</th>\n",
       "      <td>Depression Level</td>\n",
       "      <td>0</td>\n",
       "    </tr>\n",
       "    <tr>\n",
       "      <th>14</th>\n",
       "      <td>Sleep Quality</td>\n",
       "      <td>0</td>\n",
       "    </tr>\n",
       "    <tr>\n",
       "      <th>15</th>\n",
       "      <td>Dietary Habits</td>\n",
       "      <td>0</td>\n",
       "    </tr>\n",
       "    <tr>\n",
       "      <th>16</th>\n",
       "      <td>Air Pollution Exposure</td>\n",
       "      <td>0</td>\n",
       "    </tr>\n",
       "    <tr>\n",
       "      <th>17</th>\n",
       "      <td>Employment Status</td>\n",
       "      <td>0</td>\n",
       "    </tr>\n",
       "    <tr>\n",
       "      <th>18</th>\n",
       "      <td>Marital Status</td>\n",
       "      <td>0</td>\n",
       "    </tr>\n",
       "    <tr>\n",
       "      <th>19</th>\n",
       "      <td>Genetic Risk Factor (APOE-ε4 allele)</td>\n",
       "      <td>0</td>\n",
       "    </tr>\n",
       "    <tr>\n",
       "      <th>20</th>\n",
       "      <td>Social Engagement Level</td>\n",
       "      <td>0</td>\n",
       "    </tr>\n",
       "    <tr>\n",
       "      <th>21</th>\n",
       "      <td>Income Level</td>\n",
       "      <td>0</td>\n",
       "    </tr>\n",
       "    <tr>\n",
       "      <th>22</th>\n",
       "      <td>Stress Levels</td>\n",
       "      <td>0</td>\n",
       "    </tr>\n",
       "    <tr>\n",
       "      <th>23</th>\n",
       "      <td>Urban vs Rural Living</td>\n",
       "      <td>0</td>\n",
       "    </tr>\n",
       "    <tr>\n",
       "      <th>24</th>\n",
       "      <td>Alzheimer’s Diagnosis</td>\n",
       "      <td>0</td>\n",
       "    </tr>\n",
       "  </tbody>\n",
       "</table>\n",
       "</div>"
      ],
      "text/plain": [
       "                                 feature  n_missing\n",
       "0                                Country          0\n",
       "1                                    Age          0\n",
       "2                                 Gender          0\n",
       "3                        Education Level          0\n",
       "4                                    BMI          0\n",
       "5                Physical Activity Level          0\n",
       "6                         Smoking Status          0\n",
       "7                    Alcohol Consumption          0\n",
       "8                               Diabetes          0\n",
       "9                           Hypertension          0\n",
       "10                     Cholesterol Level          0\n",
       "11         Family History of Alzheimer’s          0\n",
       "12                  Cognitive Test Score          0\n",
       "13                      Depression Level          0\n",
       "14                         Sleep Quality          0\n",
       "15                        Dietary Habits          0\n",
       "16                Air Pollution Exposure          0\n",
       "17                     Employment Status          0\n",
       "18                        Marital Status          0\n",
       "19  Genetic Risk Factor (APOE-ε4 allele)          0\n",
       "20               Social Engagement Level          0\n",
       "21                          Income Level          0\n",
       "22                         Stress Levels          0\n",
       "23                 Urban vs Rural Living          0\n",
       "24                 Alzheimer’s Diagnosis          0"
      ]
     },
     "execution_count": 28,
     "metadata": {},
     "output_type": "execute_result"
    }
   ],
   "source": [
    "# --- build the summary ---\n",
    "missing = (\n",
    "    alzheimers.isna()\n",
    "    .sum()\n",
    "    .sort_values(ascending=False)\n",
    "    .reset_index()\n",
    "    .rename(columns={'index': 'feature', 0: 'num_missing'})\n",
    ")\n",
    "missing"
   ]
  },
  {
   "cell_type": "code",
   "execution_count": 31,
   "id": "e6e47115",
   "metadata": {},
   "outputs": [
    {
     "data": {
      "text/plain": [
       "np.int64(0)"
      ]
     },
     "execution_count": 31,
     "metadata": {},
     "output_type": "execute_result"
    }
   ],
   "source": [
    "# --- Check for fully duplicated rows ---\n",
    "n_duplicates = alzheimers.duplicated().sum()\n",
    "n_duplicates\n",
    "\n",
    "# --- Optionally display the duplicated rows themselves ---\n",
    "# duplicates_df = alzheimers[alzheimers.duplicated()].copy()\n",
    "# duplicates_df\n",
    "# # --- Show result in Streamlit ---\n",
    "# st.subheader(\"Duplicate Rows Summary\")\n",
    "# st.markdown(f\"**Number of duplicated rows:** {n_duplicates}\")\n",
    "\n",
    "# if n_duplicates > 0:\n",
    "#     st.markdown(\"Preview of duplicate rows:\")\n",
    "#     st.dataframe(duplicates_df.head(10))   # or use st.table(...) for a static view\n",
    "# else:\n",
    "#     st.success(\"No duplicate rows found in the dataset.\")"
   ]
  },
  {
   "cell_type": "markdown",
   "id": "c5067023",
   "metadata": {},
   "source": [
    "### Univariate Analysis\n",
    "\n",
    "Linear correlation analysis:"
   ]
  },
  {
   "cell_type": "code",
   "execution_count": null,
   "id": "2c548844",
   "metadata": {},
   "outputs": [
    {
     "data": {
      "image/png": "[encoded data removed]",
      "text/plain": [
       "<Figure size 640x480 with 2 Axes>"
      ]
     },
     "metadata": {},
     "output_type": "display_data"
    }
   ],
   "source": [
    "import matplotlib.pyplot as plt\n",
    "import seaborn as sns\n",
    "\n",
    "sns.heatmap(alzheimers.select_dtypes(include='number').corr().iloc[::-1], vmin=-1, vmax=1, cmap='coolwarm', annot=True, square=True)\n",
    "plt.yticks(rotation=0)\n",
    "plt.xticks(rotation=0)\n",
    "plt.title(\"Linear correlations of numerical features\")\n",
    "plt.tight_layout()\n",
    "plt.show()"
   ]
  },
  {
   "cell_type": "markdown",
   "id": "feb129b9",
   "metadata": {},
   "source": [
    "# Preprocessing"
   ]
  },
  {
   "cell_type": "code",
   "execution_count": 2,
   "id": "5ffaaf30",
   "metadata": {},
   "outputs": [],
   "source": [
    "from preprocessing import alzheimers_preprocessing\n",
    "\n",
    "alzheimers_encoded = alzheimers_preprocessing(alzheimers)"
   ]
  },
  {
   "cell_type": "markdown",
   "id": "eac231c4",
   "metadata": {},
   "source": [
    "Saving to CSV"
   ]
  },
  {
   "cell_type": "code",
   "execution_count": null,
   "id": "d8b7f43f",
   "metadata": {},
   "outputs": [],
   "source": [
    "alzheimers_encoded.to_csv(\"data/alzheimers_encoded.csv\", index=False)"
   ]
  },
  {
   "cell_type": "markdown",
   "id": "992910a1",
   "metadata": {},
   "source": [
    "# Modeling"
   ]
  },
  {
   "cell_type": "markdown",
   "id": "5b5eaccc",
   "metadata": {},
   "source": [
    "### Feature Selection"
   ]
  },
  {
   "cell_type": "code",
   "execution_count": 3,
   "id": "0447858b",
   "metadata": {},
   "outputs": [],
   "source": [
    "import pandas as pd\n",
    "\n",
    "alzheimers = pd.read_csv(\"data/alzheimers.csv\")\n",
    "alzheimers_encoded = pd.read_csv(\"data/alzheimers_encoded.csv\")\n",
    "\n",
    "feature_names = alzheimers_encoded.columns\n",
    "numerical_data = alzheimers_encoded.drop(columns=[\"Alzheimers_Diagnosis_Yes\"])\n",
    "target = alzheimers_encoded['Alzheimers_Diagnosis_Yes']"
   ]
  },
  {
   "cell_type": "markdown",
   "id": "f503243f",
   "metadata": {},
   "source": [
    "Helper timer decorator"
   ]
  },
  {
   "cell_type": "code",
   "execution_count": 11,
   "id": "98688a01",
   "metadata": {},
   "outputs": [],
   "source": [
    "import time\n",
    "from functools import wraps\n",
    "\n",
    "def time_it():\n",
    "    def decorator(func):\n",
    "        @wraps(func)\n",
    "        def wrapper(*args, **kwargs):\n",
    "            start = time.perf_counter()\n",
    "            result = func(*args, **kwargs)\n",
    "            end = time.perf_counter()\n",
    "            print(f\"[TIMER] {func.__name__} took {end - start:.4f} seconds\")\n",
    "            return result\n",
    "        return wrapper\n",
    "    return decorator"
   ]
  },
  {
   "cell_type": "markdown",
   "id": "3b93c625",
   "metadata": {},
   "source": [
    "### CV Strategy"
   ]
  },
  {
   "cell_type": "code",
   "execution_count": 12,
   "id": "bb8f9b3c",
   "metadata": {},
   "outputs": [],
   "source": [
    "from sklearn.model_selection import train_test_split, KFold\n",
    "import numpy as np\n",
    "from sklearn.model_selection import cross_validate\n",
    "\n",
    "# def evaluate(X, y, model):\n",
    "#     predictions = model.predict(X, y)\n",
    "#     accuracy = np.sum(predictions == y) / predictions.__len__()\n",
    "#     return accuracy\n",
    "\n",
    "# def basic_tt_split_validation(X, y, model, train_size = 0.80):\n",
    "#     X_train, X_test, y_train, y_test = train_test_split(X, y, train_size = train_size)\n",
    "#     model.fit(X_train, y_train)\n",
    "#     return evaluate(X_test, y_test, model)\n",
    "\n",
    "# def kfold_tt_split_validation(X, y, model, n_splits = 5):\n",
    "#     kf = KFold(n_splits = n_splits, shuffle = True)\n",
    "#     metrics = []\n",
    "#     for fold, (train_idx, test_idx) in enumerate(kf.split(X)):\n",
    "#         X_train, X_test, y_train, y_test = X[train_idx], X[test_idx], y[train_idx], y[test_idx]\n",
    "#         model.fit(X_train, y_train)\n",
    "#         metrics.append(evaluate(X_test, y_test, model))\n",
    "#     return metrics\n",
    "\n",
    "@time_it()\n",
    "def evaluate_model(estimator, X, y, cv):\n",
    "    scoring = [\"accuracy\", \"precision_macro\", \"recall_macro\", \"f1_macro\"]\n",
    "    cv_results = cross_validate(estimator, X, y, scoring=scoring, cv=cv, n_jobs=-1)\n",
    "\n",
    "    metrics = {\n",
    "        \"accuracy\": np.mean(cv_results[\"test_accuracy\"]),\n",
    "        \"precision\": np.mean(cv_results[\"test_precision_macro\"]),\n",
    "        \"recall\": np.mean(cv_results[\"test_recall_macro\"]),\n",
    "        \"f1\": np.mean(cv_results[\"test_f1_macro\"]),\n",
    "    }\n",
    "    return metrics"
   ]
  },
  {
   "cell_type": "markdown",
   "id": "51f4001f",
   "metadata": {},
   "source": [
    "### Modeling and Results"
   ]
  },
  {
   "cell_type": "code",
   "execution_count": 13,
   "id": "92e42872",
   "metadata": {},
   "outputs": [
    {
     "name": "stdout",
     "output_type": "stream",
     "text": [
      "Running LogisticRegression evaluation:\n",
      "[TIMER] evaluate_model took 3.3702 seconds\n",
      "Running RandomForest evaluation:\n",
      "[TIMER] evaluate_model took 14.0310 seconds\n",
      "Running XGBoost evaluation:\n",
      "[TIMER] evaluate_model took 1.6028 seconds\n",
      "Running NaiveBayes evaluation:\n",
      "[TIMER] evaluate_model took 0.4625 seconds\n",
      "Running LDA evaluation:\n",
      "[TIMER] evaluate_model took 1.6070 seconds\n",
      "Running QDA evaluation:\n",
      "[TIMER] evaluate_model took 1.6300 seconds\n",
      "Running KNN evaluation:\n",
      "[TIMER] evaluate_model took 6.7315 seconds\n",
      "Running SVM evaluation:\n",
      "[TIMER] evaluate_model took 1.0900 seconds\n",
      "\n",
      "LogisticRegression Metrics:\n",
      "\taccuracy: 0.7149\n",
      "\tprecision: 0.7061\n",
      "\trecall: 0.6992\n",
      "\tf1: 0.7015\n",
      "\n",
      "RandomForest Metrics:\n",
      "\taccuracy: 0.7208\n",
      "\tprecision: 0.7120\n",
      "\trecall: 0.7084\n",
      "\tf1: 0.7099\n",
      "\n",
      "XGBoost Metrics:\n",
      "\taccuracy: 0.7148\n",
      "\tprecision: 0.7058\n",
      "\trecall: 0.7047\n",
      "\tf1: 0.7052\n",
      "\n",
      "NaiveBayes Metrics:\n",
      "\taccuracy: 0.6377\n",
      "\tprecision: 0.6251\n",
      "\trecall: 0.6234\n",
      "\tf1: 0.6240\n",
      "\n",
      "LDA Metrics:\n",
      "\taccuracy: 0.7154\n",
      "\tprecision: 0.7065\n",
      "\trecall: 0.7006\n",
      "\tf1: 0.7027\n",
      "\n",
      "QDA Metrics:\n",
      "\taccuracy: 0.6430\n",
      "\tprecision: 0.6310\n",
      "\trecall: 0.6298\n",
      "\tf1: 0.6303\n",
      "\n",
      "KNN Metrics:\n",
      "\taccuracy: 0.6579\n",
      "\tprecision: 0.6450\n",
      "\trecall: 0.6367\n",
      "\tf1: 0.6383\n",
      "\n",
      "SVM Metrics:\n",
      "\taccuracy: 0.7152\n",
      "\tprecision: 0.7064\n",
      "\trecall: 0.7001\n",
      "\tf1: 0.7023\n"
     ]
    }
   ],
   "source": [
    "from sklearn.model_selection import StratifiedKFold\n",
    "from sklearn.linear_model import LogisticRegression\n",
    "from sklearn.ensemble import RandomForestClassifier\n",
    "import xgboost as xgb\n",
    "from sklearn.naive_bayes import GaussianNB\n",
    "from sklearn.discriminant_analysis import LinearDiscriminantAnalysis, QuadraticDiscriminantAnalysis\n",
    "from sklearn.neighbors import KNeighborsClassifier\n",
    "from sklearn.svm import SVC\n",
    "from sklearn.svm import LinearSVC\n",
    "\n",
    "\n",
    "skf = StratifiedKFold(n_splits=5, shuffle=True, random_state=1337)\n",
    "\n",
    "estimators = {\n",
    "    \"LogisticRegression\": LogisticRegression(),\n",
    "    \"RandomForest\": RandomForestClassifier(),\n",
    "    \"XGBoost\": xgb.XGBClassifier(eval_metric=\"logloss\"),\n",
    "    \"NaiveBayes\": GaussianNB(),\n",
    "    \"LDA\": LinearDiscriminantAnalysis(),\n",
    "    \"QDA\": QuadraticDiscriminantAnalysis(),\n",
    "    \"KNN\": KNeighborsClassifier(),\n",
    "    \"SVM\": LinearSVC(C=1.0)\n",
    "}\n",
    "\n",
    "results = {}\n",
    "\n",
    "for name, model in estimators.items():\n",
    "    print(f\"Running {name} evaluation:\")\n",
    "    metrics = evaluate_model(model, numerical_data, target, skf)\n",
    "    results[name] = metrics\n",
    "\n",
    "for name, metrics_dict in results.items():\n",
    "    print(f\"\\n{name} Metrics:\")\n",
    "    for metric_name, metric_val in metrics_dict.items():\n",
    "        print(f\"\\t{metric_name}: {metric_val:.4f}\")"
   ]
  },
  {
   "cell_type": "markdown",
   "id": "a1b8e61e",
   "metadata": {},
   "source": [
    "# Feature Importances"
   ]
  },
  {
   "cell_type": "markdown",
   "id": "12f8c9a3",
   "metadata": {},
   "source": [
    "Only some models have `feature_importances_` or `coef_`, the most straightforward metrics for feature importance. We will only be doing feature importance analysis on those models that have such attributes:"
   ]
  },
  {
   "cell_type": "code",
   "execution_count": 31,
   "id": "fabdb8b4",
   "metadata": {},
   "outputs": [
    {
     "name": "stdout",
     "output_type": "stream",
     "text": [
      "Fitting LogisticRegression ...\n",
      "Fitting RandomForest ...\n",
      "Fitting XGBoost ...\n",
      "Fitting NaiveBayes ...\n",
      "Fitting LDA ...\n",
      "Fitting QDA ...\n",
      "Fitting KNN ...\n",
      "\n",
      "LogisticRegression feature importances:\n",
      "   Genetic_Risk_Factor_(APOE-ε4_allele)_Yes: 1.2644\n",
      "   Age: 1.0653\n",
      "   Family_History_of_Alzheimers_Yes: 0.8254\n",
      "   Country_Russia: 0.5904\n",
      "   Country_India: 0.5464\n",
      "\n",
      "RandomForest feature importances:\n",
      "   Age: 0.2509\n",
      "   BMI: 0.0818\n",
      "   Cognitive_Test_Score: 0.0776\n",
      "   Education_Level: 0.0649\n",
      "   Genetic_Risk_Factor_(APOE-ε4_allele)_Yes: 0.0366\n",
      "\n",
      "XGBoost feature importances:\n",
      "   Genetic_Risk_Factor_(APOE-ε4_allele)_Yes: 0.2010\n",
      "   Age: 0.1338\n",
      "   Family_History_of_Alzheimers_Yes: 0.0960\n",
      "   Country_South_Africa: 0.0249\n",
      "   Country_Russia: 0.0246\n",
      "\n",
      "NaiveBayes does not provide a direct feature importance measure.\n",
      "\n",
      "LDA feature importances:\n",
      "   Genetic_Risk_Factor_(APOE-ε4_allele)_Yes: 1.3064\n",
      "   Age: 1.1303\n",
      "   Family_History_of_Alzheimers_Yes: 0.8412\n",
      "   Country_Russia: 0.5974\n",
      "   Country_India: 0.5563\n",
      "\n",
      "QDA does not provide a direct feature importance measure.\n",
      "\n",
      "KNN does not provide a direct feature importance measure.\n"
     ]
    }
   ],
   "source": [
    "def get_feature_importances(model, feature_names):\n",
    "    # Tree based models usually have a feature_importances_ attribute\n",
    "    if hasattr(model, \"feature_importances_\"):\n",
    "        importances = model.feature_importances_\n",
    "        return list(zip(feature_names, importances))\n",
    "\n",
    "    # Linear models usually have a coef_ attribute\n",
    "    elif hasattr(model, \"coef_\"):\n",
    "        coef = model.coef_\n",
    "        importances = np.abs(coef[0])\n",
    "\n",
    "        return list(zip(feature_names, importances))\n",
    "    else:\n",
    "        return None\n",
    "\n",
    "\n",
    "def run_feature_importance_analysis(num_importances=5):\n",
    "    fitted_models = {}\n",
    "    for name, model in estimators.items():\n",
    "        print(f\"Fitting {name} ...\")\n",
    "        model.fit(numerical_data, target)\n",
    "        fitted_models[name] = model\n",
    "\n",
    "    for name, model in fitted_models.items():\n",
    "        importances = get_feature_importances(model, feature_names)\n",
    "        if importances is not None:\n",
    "            print(f\"\\n{name} feature importances:\")\n",
    "            for feat, val in sorted(importances, key=lambda x: x[1], reverse=True)[:5]:\n",
    "                print(f\"\\t{feat}: {val:.4f}\")\n",
    "        else:\n",
    "            print(f\"\\n{name} does not provide a direct feature importance measure.\")\n",
    "\n",
    "run_feature_importance_analysis()"
   ]
  },
  {
   "cell_type": "code",
   "execution_count": 41,
   "id": "e8497330",
   "metadata": {},
   "outputs": [
    {
     "name": "stdout",
     "output_type": "stream",
     "text": [
      "Fitting RandomForest ...\n",
      "Finished fitting\n"
     ]
    },
    {
     "data": {
      "image/png": "[encoded data removed]",
      "text/plain": [
       "<Figure size 800x500 with 1 Axes>"
      ]
     },
     "metadata": {},
     "output_type": "display_data"
    }
   ],
   "source": [
    "import matplotlib.pyplot as plt\n",
    "def plot_feature_importance(model_name, num_importances = 5):\n",
    "    if model_name in estimators.keys():\n",
    "        print(f\"Fitting {model_name} ...\")\n",
    "        model = estimators[model_name]        \n",
    "        model.fit(numerical_data, target)\n",
    "        print(\"Finished fitting\")\n",
    "        importances = get_feature_importances(model, numerical_data.columns)\n",
    "        sorted_importances = sorted(importances, key=lambda x: x[1], reverse=True)\n",
    "        top_importances = sorted_importances[:num_importances]\n",
    "        # Separate names and values for plotting\n",
    "        labels = [t[0] for t in top_importances]\n",
    "        values = [t[1] for t in top_importances]\n",
    "        \n",
    "        # Create a bar plot\n",
    "        plt.figure(figsize=(8, 5))\n",
    "        plt.barh(range(len(values)), values)\n",
    "        plt.yticks(range(len(values)), labels)\n",
    "        plt.title(f\"Feature Importances ({model_name})\")\n",
    "        plt.xlabel(\"importance\")\n",
    "        plt.ylabel(\"Feature\")\n",
    "        plt.show()\n",
    "\n",
    "plot_feature_importance(\"RandomForest\")"
   ]
  },
  {
   "cell_type": "markdown",
   "id": "81e04b23",
   "metadata": {},
   "source": [
    "# Interaction Features"
   ]
  },
  {
   "cell_type": "code",
   "execution_count": 18,
   "id": "b484c400",
   "metadata": {},
   "outputs": [],
   "source": [
    "from sklearn.preprocessing import PolynomialFeatures\n",
    "\n",
    "def get_interaction_feature_df() -> pd.DataFrame:\n",
    "    poly = PolynomialFeatures(degree = 2, interaction_only = True, include_bias = False)\n",
    "    interaction_data = poly.fit_transform(numerical_data, target)\n",
    "    interaction_data_names = poly.get_feature_names_out(numerical_data.columns)\n",
    "    interaction_data_df = pd.DataFrame(interaction_data, columns = interaction_data_names)\n",
    "    return interaction_data_df\n",
    "interaction_data = get_interaction_feature_df()"
   ]
  },
  {
   "cell_type": "markdown",
   "id": "a86d19b4",
   "metadata": {},
   "source": [
    "### Correlation Analysis"
   ]
  },
  {
   "cell_type": "code",
   "execution_count": 23,
   "id": "4907e24b",
   "metadata": {},
   "outputs": [
    {
     "name": "stderr",
     "output_type": "stream",
     "text": [
      "c:\\HW\\Spring_2025_MSU\\STT811\\PROJ\\ALZ_PROJ\\.venv\\Lib\\site-packages\\numpy\\lib\\_function_base_impl.py:3045: RuntimeWarning: invalid value encountered in divide\n",
      "  c /= stddev[:, None]\n",
      "c:\\HW\\Spring_2025_MSU\\STT811\\PROJ\\ALZ_PROJ\\.venv\\Lib\\site-packages\\numpy\\lib\\_function_base_impl.py:3046: RuntimeWarning: invalid value encountered in divide\n",
      "  c /= stddev[None, :]\n"
     ]
    },
    {
     "data": {
      "text/plain": [
       "Age                                                       0.419923\n",
       "Age Air_Pollution_Exposure                                0.326140\n",
       "Age Alcohol_Consumption                                   0.325826\n",
       "Age Depression_Level                                      0.325718\n",
       "Age Income_Level                                          0.324684\n",
       "                                                            ...   \n",
       "Country_Sweden Country_USA                                     NaN\n",
       "Country_UK Country_USA                                         NaN\n",
       "Smoking_Status_Former Smoking_Status_Never                     NaN\n",
       "Employment_Status_Retired Employment_Status_Unemployed         NaN\n",
       "Marital_Status_Single Marital_Status_Widowed                   NaN\n",
       "Length: 1035, dtype: float64"
      ]
     },
     "execution_count": 23,
     "metadata": {},
     "output_type": "execute_result"
    }
   ],
   "source": [
    "alzheimers_diagnosis_correlation = interaction_data.corrwith(target)\n",
    "alzheimers_diagnosis_correlation.sort_values(ascending = False, key = abs)"
   ]
  },
  {
   "cell_type": "markdown",
   "id": "8b4bcd14",
   "metadata": {},
   "source": [
    "# Hypertuning"
   ]
  },
  {
   "cell_type": "code",
   "execution_count": 14,
   "id": "60ca5452",
   "metadata": {},
   "outputs": [
    {
     "name": "stderr",
     "output_type": "stream",
     "text": [
      "[I 2025-04-19 23:49:52,170] A new study created in memory with name: no-name-451eba88-7149-449d-b998-a6973230f655\n",
      "Best trial: 0. Best value: 0.564791:   1%|          | 1/100 [00:11<18:48, 11.40s/it]"
     ]
    },
    {
     "name": "stdout",
     "output_type": "stream",
     "text": [
      "[TIMER] evaluate_model took 11.3937 seconds\n",
      "[I 2025-04-19 23:50:03,568] Trial 0 finished with value: 0.5647909284825123 and parameters: {'lambda': 0.11454353292611286, 'alpha': 0.0031119025905331434, 'max_depth': 9, 'eta': 0.012351019733445453, 'gamma': 5.874062790124933e-05, 'colsample_bytree': 0.1421137165629518, 'min_child_weight': 8}. Best is trial 0 with value: 0.5647909284825123.\n"
     ]
    },
    {
     "name": "stderr",
     "output_type": "stream",
     "text": [
      "Best trial: 1. Best value: 0.718873:   2%|▏         | 2/100 [00:23<19:02, 11.66s/it]"
     ]
    },
    {
     "name": "stdout",
     "output_type": "stream",
     "text": [
      "[TIMER] evaluate_model took 11.8331 seconds\n",
      "[I 2025-04-19 23:50:15,410] Trial 1 finished with value: 0.7188725890796959 and parameters: {'lambda': 0.04585286768281725, 'alpha': 0.0011920725690125215, 'max_depth': 8, 'eta': 0.07892120856522386, 'gamma': 0.012981276516987926, 'colsample_bytree': 0.5159860719387466, 'min_child_weight': 7}. Best is trial 1 with value: 0.7188725890796959.\n"
     ]
    },
    {
     "name": "stderr",
     "output_type": "stream",
     "text": [
      "Best trial: 2. Best value: 0.720905:   3%|▎         | 3/100 [00:35<19:31, 12.07s/it]"
     ]
    },
    {
     "name": "stdout",
     "output_type": "stream",
     "text": [
      "[TIMER] evaluate_model took 12.5470 seconds\n",
      "[I 2025-04-19 23:50:27,977] Trial 2 finished with value: 0.7209046827435321 and parameters: {'lambda': 0.010415438383908508, 'alpha': 0.07131933202181442, 'max_depth': 8, 'eta': 0.029008156639996292, 'gamma': 1.849393123540984e-06, 'colsample_bytree': 0.405699574221135, 'min_child_weight': 6}. Best is trial 2 with value: 0.7209046827435321.\n"
     ]
    },
    {
     "name": "stderr",
     "output_type": "stream",
     "text": [
      "Best trial: 3. Best value: 0.721846:   4%|▍         | 4/100 [00:47<18:51, 11.78s/it]"
     ]
    },
    {
     "name": "stdout",
     "output_type": "stream",
     "text": [
      "[TIMER] evaluate_model took 11.3340 seconds\n",
      "[I 2025-04-19 23:50:39,319] Trial 3 finished with value: 0.7218462682427437 and parameters: {'lambda': 0.0014129007608520555, 'alpha': 0.007078009964783358, 'max_depth': 7, 'eta': 0.04013118213111262, 'gamma': 3.719932985679546e-07, 'colsample_bytree': 0.7790067914816494, 'min_child_weight': 8}. Best is trial 3 with value: 0.7218462682427437.\n"
     ]
    },
    {
     "name": "stderr",
     "output_type": "stream",
     "text": [
      "Best trial: 4. Best value: 0.722062:   5%|▌         | 5/100 [00:56<17:28, 11.04s/it]"
     ]
    },
    {
     "name": "stdout",
     "output_type": "stream",
     "text": [
      "[TIMER] evaluate_model took 9.7025 seconds\n",
      "[I 2025-04-19 23:50:49,028] Trial 4 finished with value: 0.7220617718207478 and parameters: {'lambda': 0.06411753028984897, 'alpha': 6.106396160829238, 'max_depth': 7, 'eta': 0.021182351775115495, 'gamma': 1.1905359313019977e-08, 'colsample_bytree': 0.5109790502681171, 'min_child_weight': 10}. Best is trial 4 with value: 0.7220617718207478.\n"
     ]
    },
    {
     "name": "stderr",
     "output_type": "stream",
     "text": [
      "Best trial: 5. Best value: 0.723002:   6%|▌         | 6/100 [01:05<15:53, 10.15s/it]"
     ]
    },
    {
     "name": "stdout",
     "output_type": "stream",
     "text": [
      "[TIMER] evaluate_model took 8.4102 seconds\n",
      "[I 2025-04-19 23:50:57,447] Trial 5 finished with value: 0.7230024191431553 and parameters: {'lambda': 0.14638944162734352, 'alpha': 0.008958928874356821, 'max_depth': 3, 'eta': 0.03328789867488881, 'gamma': 0.0018922456333704707, 'colsample_bytree': 0.8913985872572134, 'min_child_weight': 1}. Best is trial 5 with value: 0.7230024191431553.\n"
     ]
    },
    {
     "name": "stderr",
     "output_type": "stream",
     "text": [
      "Best trial: 5. Best value: 0.723002:   7%|▋         | 7/100 [01:13<14:31,  9.37s/it]"
     ]
    },
    {
     "name": "stdout",
     "output_type": "stream",
     "text": [
      "[TIMER] evaluate_model took 7.7555 seconds\n",
      "[I 2025-04-19 23:51:05,212] Trial 6 finished with value: 0.7154566875027785 and parameters: {'lambda': 0.436382360751682, 'alpha': 2.268087993232393, 'max_depth': 3, 'eta': 0.01934503238442217, 'gamma': 2.212270295897692e-06, 'colsample_bytree': 0.16827461801179966, 'min_child_weight': 5}. Best is trial 5 with value: 0.7230024191431553.\n"
     ]
    },
    {
     "name": "stderr",
     "output_type": "stream",
     "text": [
      "Best trial: 5. Best value: 0.723002:   8%|▊         | 8/100 [01:22<14:29,  9.45s/it]"
     ]
    },
    {
     "name": "stdout",
     "output_type": "stream",
     "text": [
      "[TIMER] evaluate_model took 9.6333 seconds\n",
      "[I 2025-04-19 23:51:14,853] Trial 7 finished with value: 0.7144849427502227 and parameters: {'lambda': 0.9506572552357974, 'alpha': 0.6383585658994126, 'max_depth': 7, 'eta': 0.029029632214270903, 'gamma': 1.2149751449486887e-07, 'colsample_bytree': 0.25670031474405786, 'min_child_weight': 2}. Best is trial 5 with value: 0.7230024191431553.\n"
     ]
    },
    {
     "name": "stderr",
     "output_type": "stream",
     "text": [
      "Best trial: 5. Best value: 0.723002:   9%|▉         | 9/100 [01:35<16:05, 10.61s/it]"
     ]
    },
    {
     "name": "stdout",
     "output_type": "stream",
     "text": [
      "[TIMER] evaluate_model took 13.1318 seconds\n",
      "[I 2025-04-19 23:51:27,992] Trial 8 finished with value: 0.7194651974864904 and parameters: {'lambda': 0.011330992782356013, 'alpha': 0.003070536877564466, 'max_depth': 9, 'eta': 0.014839866846345905, 'gamma': 3.4556577587610334e-06, 'colsample_bytree': 0.43158719351349284, 'min_child_weight': 1}. Best is trial 5 with value: 0.7230024191431553.\n"
     ]
    },
    {
     "name": "stderr",
     "output_type": "stream",
     "text": [
      "Best trial: 9. Best value: 0.723132:  10%|█         | 10/100 [01:44<15:02, 10.03s/it]"
     ]
    },
    {
     "name": "stdout",
     "output_type": "stream",
     "text": [
      "[TIMER] evaluate_model took 8.7355 seconds\n",
      "[I 2025-04-19 23:51:36,735] Trial 9 finished with value: 0.7231318053927616 and parameters: {'lambda': 0.0053589993784582, 'alpha': 3.264829990437927, 'max_depth': 4, 'eta': 0.03312841029247678, 'gamma': 0.00015250198363421657, 'colsample_bytree': 0.6558432005622575, 'min_child_weight': 6}. Best is trial 9 with value: 0.7231318053927616.\n"
     ]
    },
    {
     "name": "stderr",
     "output_type": "stream",
     "text": [
      "Best trial: 9. Best value: 0.723132:  11%|█         | 11/100 [01:53<14:27,  9.74s/it]"
     ]
    },
    {
     "name": "stdout",
     "output_type": "stream",
     "text": [
      "[TIMER] evaluate_model took 9.0609 seconds\n",
      "[I 2025-04-19 23:51:45,823] Trial 10 finished with value: 0.7225246654210424 and parameters: {'lambda': 7.12743870775231, 'alpha': 0.24920184350473734, 'max_depth': 5, 'eta': 0.06446253397119713, 'gamma': 0.44356892283153054, 'colsample_bytree': 0.708725231697652, 'min_child_weight': 4}. Best is trial 9 with value: 0.7231318053927616.\n"
     ]
    },
    {
     "name": "stderr",
     "output_type": "stream",
     "text": [
      "Best trial: 11. Best value: 0.723208:  12%|█▏        | 12/100 [02:01<13:36,  9.28s/it]"
     ]
    },
    {
     "name": "stdout",
     "output_type": "stream",
     "text": [
      "[TIMER] evaluate_model took 8.1872 seconds\n",
      "[I 2025-04-19 23:51:54,043] Trial 11 finished with value: 0.7232075785327851 and parameters: {'lambda': 0.0023695503714480236, 'alpha': 0.03183716932044879, 'max_depth': 3, 'eta': 0.048648522118469074, 'gamma': 0.0013055796211784852, 'colsample_bytree': 0.9489244238386471, 'min_child_weight': 3}. Best is trial 11 with value: 0.7232075785327851.\n"
     ]
    },
    {
     "name": "stderr",
     "output_type": "stream",
     "text": [
      "Best trial: 11. Best value: 0.723208:  13%|█▎        | 13/100 [02:10<13:12,  9.11s/it]"
     ]
    },
    {
     "name": "stdout",
     "output_type": "stream",
     "text": [
      "[TIMER] evaluate_model took 8.6856 seconds\n",
      "[I 2025-04-19 23:52:02,758] Trial 12 finished with value: 0.7231547217023453 and parameters: {'lambda': 0.0010470595668438897, 'alpha': 0.03766249888214206, 'max_depth': 4, 'eta': 0.05096598313975437, 'gamma': 0.00034983428112998077, 'colsample_bytree': 0.96592162372765, 'min_child_weight': 3}. Best is trial 11 with value: 0.7232075785327851.\n"
     ]
    },
    {
     "name": "stderr",
     "output_type": "stream",
     "text": [
      "Best trial: 11. Best value: 0.723208:  14%|█▍        | 14/100 [02:19<13:10,  9.19s/it]"
     ]
    },
    {
     "name": "stdout",
     "output_type": "stream",
     "text": [
      "[TIMER] evaluate_model took 9.3491 seconds\n",
      "[I 2025-04-19 23:52:12,133] Trial 13 finished with value: 0.7226560356333319 and parameters: {'lambda': 0.001079390137523988, 'alpha': 0.03250261069362135, 'max_depth': 5, 'eta': 0.056056077084514606, 'gamma': 0.009366716307600895, 'colsample_bytree': 0.9891751060767219, 'min_child_weight': 3}. Best is trial 11 with value: 0.7232075785327851.\n"
     ]
    },
    {
     "name": "stderr",
     "output_type": "stream",
     "text": [
      "Best trial: 11. Best value: 0.723208:  15%|█▌        | 15/100 [02:28<12:50,  9.06s/it]"
     ]
    },
    {
     "name": "stdout",
     "output_type": "stream",
     "text": [
      "[TIMER] evaluate_model took 8.7370 seconds\n",
      "[I 2025-04-19 23:52:20,900] Trial 14 finished with value: 0.7227797199405162 and parameters: {'lambda': 0.0034589652175851617, 'alpha': 0.028576342313966697, 'max_depth': 4, 'eta': 0.05007574681436941, 'gamma': 0.00017142536785055455, 'colsample_bytree': 0.9633805451955022, 'min_child_weight': 3}. Best is trial 11 with value: 0.7232075785327851.\n"
     ]
    },
    {
     "name": "stderr",
     "output_type": "stream",
     "text": [
      "Best trial: 11. Best value: 0.723208:  16%|█▌        | 16/100 [02:37<12:27,  8.90s/it]"
     ]
    },
    {
     "name": "stdout",
     "output_type": "stream",
     "text": [
      "[TIMER] evaluate_model took 8.4769 seconds\n",
      "[I 2025-04-19 23:52:29,411] Trial 15 finished with value: 0.7223434843443435 and parameters: {'lambda': 0.019577002137117126, 'alpha': 0.20427304350210088, 'max_depth': 4, 'eta': 0.07823631899926567, 'gamma': 0.4063250036063969, 'colsample_bytree': 0.8205192258057833, 'min_child_weight': 4}. Best is trial 11 with value: 0.7232075785327851.\n"
     ]
    },
    {
     "name": "stderr",
     "output_type": "stream",
     "text": [
      "Best trial: 11. Best value: 0.723208:  17%|█▋        | 17/100 [02:46<12:39,  9.15s/it]"
     ]
    },
    {
     "name": "stdout",
     "output_type": "stream",
     "text": [
      "[TIMER] evaluate_model took 9.7131 seconds\n",
      "[I 2025-04-19 23:52:39,162] Trial 16 finished with value: 0.7224259452339762 and parameters: {'lambda': 0.002390073249317345, 'alpha': 0.02709340198245872, 'max_depth': 5, 'eta': 0.04496193520759652, 'gamma': 0.0014767624092302807, 'colsample_bytree': 0.8827670266070158, 'min_child_weight': 3}. Best is trial 11 with value: 0.7232075785327851.\n"
     ]
    },
    {
     "name": "stderr",
     "output_type": "stream",
     "text": [
      "Best trial: 11. Best value: 0.723208:  18%|█▊        | 18/100 [02:55<12:03,  8.82s/it]"
     ]
    },
    {
     "name": "stdout",
     "output_type": "stream",
     "text": [
      "[TIMER] evaluate_model took 8.0243 seconds\n",
      "[I 2025-04-19 23:52:47,217] Trial 17 finished with value: 0.7227264752167886 and parameters: {'lambda': 0.0010641149333883802, 'alpha': 0.08156289277182471, 'max_depth': 3, 'eta': 0.094531826934675, 'gamma': 2.520620411383241e-05, 'colsample_bytree': 0.6436774537542578, 'min_child_weight': 2}. Best is trial 11 with value: 0.7232075785327851.\n"
     ]
    },
    {
     "name": "stderr",
     "output_type": "stream",
     "text": [
      "Best trial: 11. Best value: 0.723208:  19%|█▉        | 19/100 [03:05<12:28,  9.24s/it]"
     ]
    },
    {
     "name": "stdout",
     "output_type": "stream",
     "text": [
      "[TIMER] evaluate_model took 10.1831 seconds\n",
      "[I 2025-04-19 23:52:57,430] Trial 18 finished with value: 0.7222797234809007 and parameters: {'lambda': 0.0050786189051539215, 'alpha': 0.4687363978320901, 'max_depth': 6, 'eta': 0.0633500319416216, 'gamma': 0.036817708012801584, 'colsample_bytree': 0.9998797667986529, 'min_child_weight': 5}. Best is trial 11 with value: 0.7232075785327851.\n"
     ]
    },
    {
     "name": "stderr",
     "output_type": "stream",
     "text": [
      "Best trial: 11. Best value: 0.723208:  20%|██        | 20/100 [03:14<12:09,  9.12s/it]"
     ]
    },
    {
     "name": "stdout",
     "output_type": "stream",
     "text": [
      "[TIMER] evaluate_model took 8.8051 seconds\n",
      "[I 2025-04-19 23:53:06,265] Trial 19 finished with value: 0.7231386213798459 and parameters: {'lambda': 9.159481383167423, 'alpha': 0.012240263823217915, 'max_depth': 4, 'eta': 0.04075174655266041, 'gamma': 0.0007910889871403163, 'colsample_bytree': 0.8322859366055539, 'min_child_weight': 4}. Best is trial 11 with value: 0.7232075785327851.\n"
     ]
    },
    {
     "name": "stderr",
     "output_type": "stream",
     "text": [
      "Best trial: 11. Best value: 0.723208:  21%|██        | 21/100 [03:22<11:33,  8.78s/it]"
     ]
    },
    {
     "name": "stdout",
     "output_type": "stream",
     "text": [
      "[TIMER] evaluate_model took 7.9747 seconds\n",
      "[I 2025-04-19 23:53:14,269] Trial 20 finished with value: 0.7229269748914469 and parameters: {'lambda': 0.020920348425209456, 'alpha': 0.13200005630854936, 'max_depth': 3, 'eta': 0.09846729278740782, 'gamma': 0.04286207248608251, 'colsample_bytree': 0.703235350045675, 'min_child_weight': 2}. Best is trial 11 with value: 0.7232075785327851.\n"
     ]
    },
    {
     "name": "stderr",
     "output_type": "stream",
     "text": [
      "Best trial: 11. Best value: 0.723208:  22%|██▏       | 22/100 [03:30<11:25,  8.79s/it]"
     ]
    },
    {
     "name": "stdout",
     "output_type": "stream",
     "text": [
      "[TIMER] evaluate_model took 8.7688 seconds\n",
      "[I 2025-04-19 23:53:23,075] Trial 21 finished with value: 0.7228907805381966 and parameters: {'lambda': 7.377713102714643, 'alpha': 0.009745905196321087, 'max_depth': 4, 'eta': 0.04524581903381559, 'gamma': 0.0007860329031831139, 'colsample_bytree': 0.8634680957722484, 'min_child_weight': 4}. Best is trial 11 with value: 0.7232075785327851.\n"
     ]
    },
    {
     "name": "stderr",
     "output_type": "stream",
     "text": [
      "Best trial: 11. Best value: 0.723208:  23%|██▎       | 23/100 [03:39<11:19,  8.83s/it]"
     ]
    },
    {
     "name": "stdout",
     "output_type": "stream",
     "text": [
      "[TIMER] evaluate_model took 8.8810 seconds\n",
      "[I 2025-04-19 23:53:31,988] Trial 22 finished with value: 0.722932695711484 and parameters: {'lambda': 1.4018240277840195, 'alpha': 0.020962529219634395, 'max_depth': 4, 'eta': 0.03895755991346912, 'gamma': 0.00038650257942206875, 'colsample_bytree': 0.9279468975542685, 'min_child_weight': 4}. Best is trial 11 with value: 0.7232075785327851.\n"
     ]
    },
    {
     "name": "stderr",
     "output_type": "stream",
     "text": [
      "Best trial: 11. Best value: 0.723208:  24%|██▍       | 24/100 [03:49<11:29,  9.07s/it]"
     ]
    },
    {
     "name": "stdout",
     "output_type": "stream",
     "text": [
      "[TIMER] evaluate_model took 9.6097 seconds\n",
      "[I 2025-04-19 23:53:41,627] Trial 23 finished with value: 0.7229699918495875 and parameters: {'lambda': 0.25260528000947297, 'alpha': 0.013501946480688963, 'max_depth': 5, 'eta': 0.02373054242684741, 'gamma': 2.4690701467284302e-05, 'colsample_bytree': 0.7871641663242118, 'min_child_weight': 3}. Best is trial 11 with value: 0.7232075785327851.\n"
     ]
    },
    {
     "name": "stderr",
     "output_type": "stream",
     "text": [
      "Best trial: 11. Best value: 0.723208:  25%|██▌       | 25/100 [03:59<11:39,  9.33s/it]"
     ]
    },
    {
     "name": "stdout",
     "output_type": "stream",
     "text": [
      "[TIMER] evaluate_model took 9.8902 seconds\n",
      "[I 2025-04-19 23:53:51,559] Trial 24 finished with value: 0.7223970166938426 and parameters: {'lambda': 2.7032772878815514, 'alpha': 0.056541127224601674, 'max_depth': 6, 'eta': 0.05570492322692601, 'gamma': 0.00420840031991356, 'colsample_bytree': 0.836978382275247, 'min_child_weight': 5}. Best is trial 11 with value: 0.7232075785327851.\n"
     ]
    },
    {
     "name": "stderr",
     "output_type": "stream",
     "text": [
      "Best trial: 25. Best value: 0.72328:  26%|██▌       | 26/100 [04:07<11:09,  9.05s/it] "
     ]
    },
    {
     "name": "stdout",
     "output_type": "stream",
     "text": [
      "[TIMER] evaluate_model took 8.3604 seconds\n",
      "[I 2025-04-19 23:53:59,952] Trial 25 finished with value: 0.7232796357563958 and parameters: {'lambda': 0.0023094688326579047, 'alpha': 0.0029521853900008267, 'max_depth': 3, 'eta': 0.03834607562300563, 'gamma': 1.3815385302807788e-05, 'colsample_bytree': 0.9228863268217726, 'min_child_weight': 2}. Best is trial 25 with value: 0.7232796357563958.\n"
     ]
    },
    {
     "name": "stderr",
     "output_type": "stream",
     "text": [
      "Best trial: 25. Best value: 0.72328:  27%|██▋       | 27/100 [04:16<10:47,  8.87s/it]"
     ]
    },
    {
     "name": "stdout",
     "output_type": "stream",
     "text": [
      "[TIMER] evaluate_model took 8.4166 seconds\n",
      "[I 2025-04-19 23:54:08,405] Trial 26 finished with value: 0.7228636579491114 and parameters: {'lambda': 0.0024979664238124442, 'alpha': 0.0013201766711039395, 'max_depth': 3, 'eta': 0.02541183675837706, 'gamma': 1.2606988557299975e-05, 'colsample_bytree': 0.9278972231031495, 'min_child_weight': 1}. Best is trial 25 with value: 0.7232796357563958.\n"
     ]
    },
    {
     "name": "stderr",
     "output_type": "stream",
     "text": [
      "Best trial: 25. Best value: 0.72328:  28%|██▊       | 28/100 [04:24<10:31,  8.76s/it]"
     ]
    },
    {
     "name": "stdout",
     "output_type": "stream",
     "text": [
      "[TIMER] evaluate_model took 8.4822 seconds\n",
      "[I 2025-04-19 23:54:16,924] Trial 27 finished with value: 0.7229726742516769 and parameters: {'lambda': 0.0082429794973503, 'alpha': 0.002589136994503407, 'max_depth': 3, 'eta': 0.03579036690218009, 'gamma': 9.229577052987388e-05, 'colsample_bytree': 0.7390191671978614, 'min_child_weight': 2}. Best is trial 25 with value: 0.7232796357563958.\n"
     ]
    },
    {
     "name": "stderr",
     "output_type": "stream",
     "text": [
      "Best trial: 28. Best value: 0.723502:  29%|██▉       | 29/100 [04:32<10:07,  8.56s/it]"
     ]
    },
    {
     "name": "stdout",
     "output_type": "stream",
     "text": [
      "[TIMER] evaluate_model took 8.0551 seconds\n",
      "[I 2025-04-19 23:54:25,015] Trial 28 finished with value: 0.7235023960337684 and parameters: {'lambda': 0.0021282359284657973, 'alpha': 0.006127907978071487, 'max_depth': 3, 'eta': 0.069249219749247, 'gamma': 3.9128271489689835e-07, 'colsample_bytree': 0.5986342337414767, 'min_child_weight': 2}. Best is trial 28 with value: 0.7235023960337684.\n"
     ]
    },
    {
     "name": "stderr",
     "output_type": "stream",
     "text": [
      "Best trial: 28. Best value: 0.723502:  30%|███       | 30/100 [04:41<09:55,  8.51s/it]"
     ]
    },
    {
     "name": "stdout",
     "output_type": "stream",
     "text": [
      "[TIMER] evaluate_model took 8.3584 seconds\n",
      "[I 2025-04-19 23:54:33,407] Trial 29 finished with value: 0.7221880079211235 and parameters: {'lambda': 0.027757781743279343, 'alpha': 0.0052192858036779685, 'max_depth': 3, 'eta': 0.010620414729642222, 'gamma': 1.8012474385336007e-07, 'colsample_bytree': 0.5981510534443728, 'min_child_weight': 1}. Best is trial 28 with value: 0.7235023960337684.\n"
     ]
    },
    {
     "name": "stderr",
     "output_type": "stream",
     "text": [
      "Best trial: 28. Best value: 0.723502:  31%|███       | 31/100 [04:49<09:41,  8.43s/it]"
     ]
    },
    {
     "name": "stdout",
     "output_type": "stream",
     "text": [
      "[TIMER] evaluate_model took 8.2122 seconds\n",
      "[I 2025-04-19 23:54:41,660] Trial 30 finished with value: 0.7225385072314408 and parameters: {'lambda': 0.0024419130921269428, 'alpha': 0.004514568134918836, 'max_depth': 3, 'eta': 0.07146935089338127, 'gamma': 2.1697227202887977e-08, 'colsample_bytree': 0.3045234421644735, 'min_child_weight': 2}. Best is trial 28 with value: 0.7235023960337684.\n"
     ]
    },
    {
     "name": "stderr",
     "output_type": "stream",
     "text": [
      "Best trial: 28. Best value: 0.723502:  32%|███▏      | 32/100 [04:58<09:42,  8.56s/it]"
     ]
    },
    {
     "name": "stdout",
     "output_type": "stream",
     "text": [
      "[TIMER] evaluate_model took 8.8097 seconds\n",
      "[I 2025-04-19 23:54:50,516] Trial 31 finished with value: 0.7229417650485954 and parameters: {'lambda': 0.0017528314703015777, 'alpha': 0.04898703911126869, 'max_depth': 4, 'eta': 0.05381322598071382, 'gamma': 6.862677471163978e-06, 'colsample_bytree': 0.9315835363647156, 'min_child_weight': 3}. Best is trial 28 with value: 0.7235023960337684.\n"
     ]
    },
    {
     "name": "stderr",
     "output_type": "stream",
     "text": [
      "Best trial: 28. Best value: 0.723502:  33%|███▎      | 33/100 [05:06<09:27,  8.47s/it]"
     ]
    },
    {
     "name": "stdout",
     "output_type": "stream",
     "text": [
      "[TIMER] evaluate_model took 8.2290 seconds\n",
      "[I 2025-04-19 23:54:58,785] Trial 32 finished with value: 0.7229692656572134 and parameters: {'lambda': 0.005172395233387811, 'alpha': 0.0015772247579825505, 'max_depth': 3, 'eta': 0.04625536979954584, 'gamma': 3.960131910930669e-05, 'colsample_bytree': 0.9012236372560932, 'min_child_weight': 2}. Best is trial 28 with value: 0.7235023960337684.\n"
     ]
    },
    {
     "name": "stderr",
     "output_type": "stream",
     "text": [
      "Best trial: 28. Best value: 0.723502:  34%|███▍      | 34/100 [05:15<09:25,  8.56s/it]"
     ]
    },
    {
     "name": "stdout",
     "output_type": "stream",
     "text": [
      "[TIMER] evaluate_model took 8.7406 seconds\n",
      "[I 2025-04-19 23:55:07,558] Trial 33 finished with value: 0.7228713700249123 and parameters: {'lambda': 0.0037852619071582056, 'alpha': 0.0027118419937504335, 'max_depth': 4, 'eta': 0.06313682708589059, 'gamma': 7.350285393741662e-07, 'colsample_bytree': 0.5593756326417336, 'min_child_weight': 3}. Best is trial 28 with value: 0.7235023960337684.\n"
     ]
    },
    {
     "name": "stderr",
     "output_type": "stream",
     "text": [
      "Best trial: 28. Best value: 0.723502:  35%|███▌      | 35/100 [05:23<09:05,  8.39s/it]"
     ]
    },
    {
     "name": "stdout",
     "output_type": "stream",
     "text": [
      "[TIMER] evaluate_model took 7.9457 seconds\n",
      "[I 2025-04-19 23:55:15,535] Trial 34 finished with value: 0.7227542986004332 and parameters: {'lambda': 0.010847402026931482, 'alpha': 0.01704711632462156, 'max_depth': 3, 'eta': 0.08610242152570573, 'gamma': 6.421462035002077e-07, 'colsample_bytree': 0.7565643881600068, 'min_child_weight': 8}. Best is trial 28 with value: 0.7235023960337684.\n"
     ]
    },
    {
     "name": "stderr",
     "output_type": "stream",
     "text": [
      "Best trial: 28. Best value: 0.723502:  36%|███▌      | 36/100 [05:32<09:12,  8.63s/it]"
     ]
    },
    {
     "name": "stdout",
     "output_type": "stream",
     "text": [
      "[TIMER] evaluate_model took 9.1499 seconds\n",
      "[I 2025-04-19 23:55:24,720] Trial 35 finished with value: 0.7228194727006774 and parameters: {'lambda': 0.001023017614786347, 'alpha': 0.005258405957184371, 'max_depth': 5, 'eta': 0.07328879822769238, 'gamma': 7.327717738353282e-08, 'colsample_bytree': 0.4057458670071561, 'min_child_weight': 7}. Best is trial 28 with value: 0.7235023960337684.\n"
     ]
    },
    {
     "name": "stderr",
     "output_type": "stream",
     "text": [
      "Best trial: 28. Best value: 0.723502:  37%|███▋      | 37/100 [05:41<09:05,  8.65s/it]"
     ]
    },
    {
     "name": "stdout",
     "output_type": "stream",
     "text": [
      "[TIMER] evaluate_model took 8.6798 seconds\n",
      "[I 2025-04-19 23:55:33,429] Trial 36 finished with value: 0.722883030130626 and parameters: {'lambda': 0.0017686991813158806, 'alpha': 0.046873309412946686, 'max_depth': 4, 'eta': 0.05999368410533578, 'gamma': 0.00030652294633085243, 'colsample_bytree': 0.9535233320946137, 'min_child_weight': 10}. Best is trial 28 with value: 0.7235023960337684.\n"
     ]
    },
    {
     "name": "stderr",
     "output_type": "stream",
     "text": [
      "Best trial: 28. Best value: 0.723502:  38%|███▊      | 38/100 [05:52<09:49,  9.51s/it]"
     ]
    },
    {
     "name": "stdout",
     "output_type": "stream",
     "text": [
      "[TIMER] evaluate_model took 11.4953 seconds\n",
      "[I 2025-04-19 23:55:44,957] Trial 37 finished with value: 0.7210006978637795 and parameters: {'lambda': 0.04990147768371006, 'alpha': 0.0017346656216731028, 'max_depth': 8, 'eta': 0.05056433173223817, 'gamma': 6.110890145475932e-06, 'colsample_bytree': 0.4567223946603532, 'min_child_weight': 1}. Best is trial 28 with value: 0.7235023960337684.\n"
     ]
    },
    {
     "name": "stderr",
     "output_type": "stream",
     "text": [
      "Best trial: 28. Best value: 0.723502:  39%|███▉      | 39/100 [06:00<09:11,  9.03s/it]"
     ]
    },
    {
     "name": "stdout",
     "output_type": "stream",
     "text": [
      "[TIMER] evaluate_model took 7.8721 seconds\n",
      "[I 2025-04-19 23:55:52,874] Trial 38 finished with value: 0.7232499902707115 and parameters: {'lambda': 0.0088339743243646, 'alpha': 0.14345000030663638, 'max_depth': 3, 'eta': 0.03919012733051191, 'gamma': 0.004598922094088179, 'colsample_bytree': 0.3072194402333382, 'min_child_weight': 2}. Best is trial 28 with value: 0.7235023960337684.\n"
     ]
    },
    {
     "name": "stderr",
     "output_type": "stream",
     "text": [
      "Best trial: 28. Best value: 0.723502:  40%|████      | 40/100 [06:08<08:40,  8.68s/it]"
     ]
    },
    {
     "name": "stdout",
     "output_type": "stream",
     "text": [
      "[TIMER] evaluate_model took 7.8095 seconds\n",
      "[I 2025-04-19 23:56:00,725] Trial 39 finished with value: 0.6641250452438912 and parameters: {'lambda': 0.007601454357725404, 'alpha': 0.13509630518764387, 'max_depth': 3, 'eta': 0.027876514235272855, 'gamma': 0.012304161063634496, 'colsample_bytree': 0.11774963032585384, 'min_child_weight': 1}. Best is trial 28 with value: 0.7235023960337684.\n"
     ]
    },
    {
     "name": "stderr",
     "output_type": "stream",
     "text": [
      "Best trial: 28. Best value: 0.723502:  41%|████      | 41/100 [06:16<08:21,  8.50s/it]"
     ]
    },
    {
     "name": "stdout",
     "output_type": "stream",
     "text": [
      "[TIMER] evaluate_model took 8.0444 seconds\n",
      "[I 2025-04-19 23:56:08,815] Trial 40 finished with value: 0.7230201566274397 and parameters: {'lambda': 0.12655990688596924, 'alpha': 0.6283532092558957, 'max_depth': 3, 'eta': 0.03756850313150518, 'gamma': 0.07820485545777017, 'colsample_bytree': 0.34275246130943443, 'min_child_weight': 9}. Best is trial 28 with value: 0.7235023960337684.\n"
     ]
    },
    {
     "name": "stderr",
     "output_type": "stream",
     "text": [
      "Best trial: 28. Best value: 0.723502:  42%|████▏     | 42/100 [06:24<08:01,  8.31s/it]"
     ]
    },
    {
     "name": "stdout",
     "output_type": "stream",
     "text": [
      "[TIMER] evaluate_model took 7.8206 seconds\n",
      "[I 2025-04-19 23:56:16,669] Trial 41 finished with value: 0.7212228982793423 and parameters: {'lambda': 0.0016609348946695487, 'alpha': 0.008336509006183865, 'max_depth': 3, 'eta': 0.03169384852126526, 'gamma': 0.0031360545319311568, 'colsample_bytree': 0.21365317842531134, 'min_child_weight': 2}. Best is trial 28 with value: 0.7235023960337684.\n"
     ]
    },
    {
     "name": "stderr",
     "output_type": "stream",
     "text": [
      "Best trial: 42. Best value: 0.723607:  43%|████▎     | 43/100 [06:32<07:53,  8.30s/it]"
     ]
    },
    {
     "name": "stdout",
     "output_type": "stream",
     "text": [
      "[TIMER] evaluate_model took 8.2357 seconds\n",
      "[I 2025-04-19 23:56:24,948] Trial 42 finished with value: 0.7236070945111642 and parameters: {'lambda': 0.003421544563491966, 'alpha': 0.31918732462692395, 'max_depth': 3, 'eta': 0.04166693292673297, 'gamma': 0.000524469907630062, 'colsample_bytree': 0.49085187895643473, 'min_child_weight': 2}. Best is trial 42 with value: 0.7236070945111642.\n"
     ]
    },
    {
     "name": "stderr",
     "output_type": "stream",
     "text": [
      "Best trial: 42. Best value: 0.723607:  44%|████▍     | 44/100 [06:41<07:44,  8.29s/it]"
     ]
    },
    {
     "name": "stdout",
     "output_type": "stream",
     "text": [
      "[TIMER] evaluate_model took 8.2340 seconds\n",
      "[I 2025-04-19 23:56:33,220] Trial 43 finished with value: 0.7234217148486273 and parameters: {'lambda': 0.003337091545175654, 'alpha': 1.4675410515594152, 'max_depth': 3, 'eta': 0.04028904880315086, 'gamma': 0.004830471884063423, 'colsample_bytree': 0.4971382940517667, 'min_child_weight': 2}. Best is trial 42 with value: 0.7236070945111642.\n"
     ]
    },
    {
     "name": "stderr",
     "output_type": "stream",
     "text": [
      "Best trial: 42. Best value: 0.723607:  45%|████▌     | 45/100 [06:51<08:18,  9.06s/it]"
     ]
    },
    {
     "name": "stdout",
     "output_type": "stream",
     "text": [
      "[TIMER] evaluate_model took 10.8334 seconds\n",
      "[I 2025-04-19 23:56:44,087] Trial 44 finished with value: 0.7202009484068748 and parameters: {'lambda': 0.014402623421346376, 'alpha': 1.4325349806311616, 'max_depth': 8, 'eta': 0.04216865885446127, 'gamma': 0.0042085356777397664, 'colsample_bytree': 0.3386614123855478, 'min_child_weight': 2}. Best is trial 42 with value: 0.7236070945111642.\n"
     ]
    },
    {
     "name": "stderr",
     "output_type": "stream",
     "text": [
      "Best trial: 42. Best value: 0.723607:  46%|████▌     | 46/100 [07:04<09:12, 10.23s/it]"
     ]
    },
    {
     "name": "stdout",
     "output_type": "stream",
     "text": [
      "[TIMER] evaluate_model took 12.8959 seconds\n",
      "[I 2025-04-19 23:56:57,022] Trial 45 finished with value: 0.7204564690879469 and parameters: {'lambda': 0.0036527866957049094, 'alpha': 1.4376331116508894, 'max_depth': 9, 'eta': 0.03535600812664643, 'gamma': 1.3647494673059396e-06, 'colsample_bytree': 0.46064802776574143, 'min_child_weight': 1}. Best is trial 42 with value: 0.7236070945111642.\n"
     ]
    },
    {
     "name": "stderr",
     "output_type": "stream",
     "text": [
      "Best trial: 42. Best value: 0.723607:  47%|████▋     | 47/100 [07:15<09:01, 10.21s/it]"
     ]
    },
    {
     "name": "stdout",
     "output_type": "stream",
     "text": [
      "[TIMER] evaluate_model took 10.1506 seconds\n",
      "[I 2025-04-19 23:57:07,209] Trial 46 finished with value: 0.7222657329735312 and parameters: {'lambda': 0.008108387657673698, 'alpha': 9.199015722096512, 'max_depth': 7, 'eta': 0.029207990340818363, 'gamma': 0.025725175997420625, 'colsample_bytree': 0.5312049273540146, 'min_child_weight': 2}. Best is trial 42 with value: 0.7236070945111642.\n"
     ]
    },
    {
     "name": "stderr",
     "output_type": "stream",
     "text": [
      "Best trial: 42. Best value: 0.723607:  48%|████▊     | 48/100 [07:23<08:21,  9.64s/it]"
     ]
    },
    {
     "name": "stdout",
     "output_type": "stream",
     "text": [
      "[TIMER] evaluate_model took 8.2681 seconds\n",
      "[I 2025-04-19 23:57:15,509] Trial 47 finished with value: 0.722037610290472 and parameters: {'lambda': 0.07384084396973817, 'alpha': 0.32909565024792936, 'max_depth': 3, 'eta': 0.021543583210631784, 'gamma': 0.08545604509925334, 'colsample_bytree': 0.504392202202825, 'min_child_weight': 1}. Best is trial 42 with value: 0.7236070945111642.\n"
     ]
    },
    {
     "name": "stderr",
     "output_type": "stream",
     "text": [
      "Best trial: 42. Best value: 0.723607:  49%|████▉     | 49/100 [07:32<07:59,  9.41s/it]"
     ]
    },
    {
     "name": "stdout",
     "output_type": "stream",
     "text": [
      "[TIMER] evaluate_model took 8.8287 seconds\n",
      "[I 2025-04-19 23:57:24,374] Trial 48 finished with value: 0.722986756848783 and parameters: {'lambda': 0.03356257773133619, 'alpha': 4.413525765568545, 'max_depth': 4, 'eta': 0.03212782454423112, 'gamma': 0.006525249514387447, 'colsample_bytree': 0.5890259920025045, 'min_child_weight': 2}. Best is trial 42 with value: 0.7236070945111642.\n"
     ]
    },
    {
     "name": "stderr",
     "output_type": "stream",
     "text": [
      "Best trial: 42. Best value: 0.723607:  50%|█████     | 50/100 [07:41<07:46,  9.34s/it]"
     ]
    },
    {
     "name": "stdout",
     "output_type": "stream",
     "text": [
      "[TIMER] evaluate_model took 9.1260 seconds\n",
      "[I 2025-04-19 23:57:33,541] Trial 49 finished with value: 0.7216358302202619 and parameters: {'lambda': 0.005902953174504627, 'alpha': 0.9940280941716864, 'max_depth': 6, 'eta': 0.017276635858110713, 'gamma': 7.001238156701154e-05, 'colsample_bytree': 0.36733238262505347, 'min_child_weight': 6}. Best is trial 42 with value: 0.7236070945111642.\n"
     ]
    },
    {
     "name": "stderr",
     "output_type": "stream",
     "text": [
      "Best trial: 42. Best value: 0.723607:  51%|█████     | 51/100 [07:49<07:19,  8.97s/it]"
     ]
    },
    {
     "name": "stdout",
     "output_type": "stream",
     "text": [
      "[TIMER] evaluate_model took 8.0861 seconds\n",
      "[I 2025-04-19 23:57:41,668] Trial 50 finished with value: 0.7221127134898728 and parameters: {'lambda': 0.0034036817148368932, 'alpha': 0.23247529865831917, 'max_depth': 3, 'eta': 0.04234384433345114, 'gamma': 3.647128695815053e-08, 'colsample_bytree': 0.25858482624759704, 'min_child_weight': 3}. Best is trial 42 with value: 0.7236070945111642.\n"
     ]
    },
    {
     "name": "stderr",
     "output_type": "stream",
     "text": [
      "Best trial: 51. Best value: 0.723734:  52%|█████▏    | 52/100 [07:57<07:00,  8.76s/it]"
     ]
    },
    {
     "name": "stdout",
     "output_type": "stream",
     "text": [
      "[TIMER] evaluate_model took 8.2068 seconds\n",
      "[I 2025-04-19 23:57:49,918] Trial 51 finished with value: 0.7237336917739398 and parameters: {'lambda': 0.002429241242386683, 'alpha': 0.12321711741140169, 'max_depth': 3, 'eta': 0.04717367685175416, 'gamma': 0.0011761376002989731, 'colsample_bytree': 0.48804858893481196, 'min_child_weight': 3}. Best is trial 51 with value: 0.7237336917739398.\n"
     ]
    },
    {
     "name": "stderr",
     "output_type": "stream",
     "text": [
      "Best trial: 51. Best value: 0.723734:  53%|█████▎    | 53/100 [08:06<06:44,  8.62s/it]"
     ]
    },
    {
     "name": "stdout",
     "output_type": "stream",
     "text": [
      "[TIMER] evaluate_model took 8.2554 seconds\n",
      "[I 2025-04-19 23:57:58,206] Trial 52 finished with value: 0.7234820843980562 and parameters: {'lambda': 0.0015655644291650958, 'alpha': 0.10404933113657433, 'max_depth': 3, 'eta': 0.037276542249196694, 'gamma': 0.0020319699089267193, 'colsample_bytree': 0.49498624028120575, 'min_child_weight': 2}. Best is trial 51 with value: 0.7237336917739398.\n"
     ]
    },
    {
     "name": "stderr",
     "output_type": "stream",
     "text": [
      "Best trial: 51. Best value: 0.723734:  54%|█████▍    | 54/100 [08:14<06:31,  8.51s/it]"
     ]
    },
    {
     "name": "stdout",
     "output_type": "stream",
     "text": [
      "[TIMER] evaluate_model took 8.2062 seconds\n",
      "[I 2025-04-19 23:58:06,453] Trial 53 finished with value: 0.7232870689810449 and parameters: {'lambda': 0.0015567572265361492, 'alpha': 0.08529438760002343, 'max_depth': 3, 'eta': 0.02915982291995466, 'gamma': 0.0006558447940140041, 'colsample_bytree': 0.4914955507768248, 'min_child_weight': 1}. Best is trial 51 with value: 0.7237336917739398.\n"
     ]
    },
    {
     "name": "stderr",
     "output_type": "stream",
     "text": [
      "Best trial: 51. Best value: 0.723734:  55%|█████▌    | 55/100 [08:22<06:24,  8.55s/it]"
     ]
    },
    {
     "name": "stdout",
     "output_type": "stream",
     "text": [
      "[TIMER] evaluate_model took 8.6185 seconds\n",
      "[I 2025-04-19 23:58:15,118] Trial 54 finished with value: 0.7235731293164792 and parameters: {'lambda': 0.001343079804460575, 'alpha': 0.08778194957401733, 'max_depth': 4, 'eta': 0.0357593176381605, 'gamma': 0.0006100824866357401, 'colsample_bytree': 0.4949039219883182, 'min_child_weight': 1}. Best is trial 51 with value: 0.7237336917739398.\n"
     ]
    },
    {
     "name": "stderr",
     "output_type": "stream",
     "text": [
      "Best trial: 51. Best value: 0.723734:  56%|█████▌    | 56/100 [08:31<06:21,  8.66s/it]"
     ]
    },
    {
     "name": "stdout",
     "output_type": "stream",
     "text": [
      "[TIMER] evaluate_model took 8.8779 seconds\n",
      "[I 2025-04-19 23:58:24,028] Trial 55 finished with value: 0.7234624683577249 and parameters: {'lambda': 0.0013969656097439713, 'alpha': 0.4639067939769245, 'max_depth': 4, 'eta': 0.03410109838840204, 'gamma': 0.0018374821213104772, 'colsample_bytree': 0.6417921361302721, 'min_child_weight': 1}. Best is trial 51 with value: 0.7237336917739398.\n"
     ]
    },
    {
     "name": "stderr",
     "output_type": "stream",
     "text": [
      "Best trial: 51. Best value: 0.723734:  57%|█████▋    | 57/100 [08:40<06:14,  8.71s/it]"
     ]
    },
    {
     "name": "stdout",
     "output_type": "stream",
     "text": [
      "[TIMER] evaluate_model took 8.7924 seconds\n",
      "[I 2025-04-19 23:58:32,860] Trial 56 finished with value: 0.7233338372249538 and parameters: {'lambda': 0.0016105910021586083, 'alpha': 0.32355444883640727, 'max_depth': 4, 'eta': 0.034507991403714286, 'gamma': 0.001991637116049406, 'colsample_bytree': 0.6523371791987883, 'min_child_weight': 1}. Best is trial 51 with value: 0.7237336917739398.\n"
     ]
    },
    {
     "name": "stderr",
     "output_type": "stream",
     "text": [
      "Best trial: 51. Best value: 0.723734:  58%|█████▊    | 58/100 [08:50<06:14,  8.92s/it]"
     ]
    },
    {
     "name": "stdout",
     "output_type": "stream",
     "text": [
      "[TIMER] evaluate_model took 9.3617 seconds\n",
      "[I 2025-04-19 23:58:42,256] Trial 57 finished with value: 0.722928283062403 and parameters: {'lambda': 0.001230172322498209, 'alpha': 0.5003680617165961, 'max_depth': 5, 'eta': 0.02609333675830847, 'gamma': 0.00039117985340500537, 'colsample_bytree': 0.6097530955443864, 'min_child_weight': 1}. Best is trial 51 with value: 0.7237336917739398.\n"
     ]
    },
    {
     "name": "stderr",
     "output_type": "stream",
     "text": [
      "Best trial: 51. Best value: 0.723734:  59%|█████▉    | 59/100 [08:58<06:04,  8.89s/it]"
     ]
    },
    {
     "name": "stdout",
     "output_type": "stream",
     "text": [
      "[TIMER] evaluate_model took 8.7732 seconds\n",
      "[I 2025-04-19 23:58:51,080] Trial 58 finished with value: 0.7234894195872071 and parameters: {'lambda': 0.0021902618780365105, 'alpha': 0.1928519528858583, 'max_depth': 4, 'eta': 0.044171643411916234, 'gamma': 0.0016269525141374707, 'colsample_bytree': 0.5595774748091658, 'min_child_weight': 3}. Best is trial 51 with value: 0.7237336917739398.\n"
     ]
    },
    {
     "name": "stderr",
     "output_type": "stream",
     "text": [
      "Best trial: 51. Best value: 0.723734:  60%|██████    | 60/100 [09:07<05:52,  8.82s/it]"
     ]
    },
    {
     "name": "stdout",
     "output_type": "stream",
     "text": [
      "[TIMER] evaluate_model took 8.6319 seconds\n",
      "[I 2025-04-19 23:58:59,744] Trial 59 finished with value: 0.7232515010234751 and parameters: {'lambda': 0.0025318680786989554, 'alpha': 0.10580771060741309, 'max_depth': 4, 'eta': 0.047527250512787535, 'gamma': 0.00013035063523681272, 'colsample_bytree': 0.5513062392919893, 'min_child_weight': 4}. Best is trial 51 with value: 0.7237336917739398.\n"
     ]
    },
    {
     "name": "stderr",
     "output_type": "stream",
     "text": [
      "Best trial: 51. Best value: 0.723734:  61%|██████    | 61/100 [09:16<05:44,  8.82s/it]"
     ]
    },
    {
     "name": "stdout",
     "output_type": "stream",
     "text": [
      "[TIMER] evaluate_model took 8.7864 seconds\n",
      "[I 2025-04-19 23:59:08,577] Trial 60 finished with value: 0.7224807967093326 and parameters: {'lambda': 0.004726730668464281, 'alpha': 0.16962309300056927, 'max_depth': 5, 'eta': 0.0676692154941598, 'gamma': 0.0010274323008720053, 'colsample_bytree': 0.41858762670415967, 'min_child_weight': 3}. Best is trial 51 with value: 0.7237336917739398.\n"
     ]
    },
    {
     "name": "stderr",
     "output_type": "stream",
     "text": [
      "Best trial: 51. Best value: 0.723734:  62%|██████▏   | 62/100 [09:25<05:34,  8.79s/it]"
     ]
    },
    {
     "name": "stdout",
     "output_type": "stream",
     "text": [
      "[TIMER] evaluate_model took 8.6768 seconds\n",
      "[I 2025-04-19 23:59:17,287] Trial 61 finished with value: 0.7232698584774708 and parameters: {'lambda': 0.0021797209147545317, 'alpha': 0.3469243581187757, 'max_depth': 4, 'eta': 0.04355497017986722, 'gamma': 0.0020424128500939934, 'colsample_bytree': 0.45725434977122636, 'min_child_weight': 3}. Best is trial 51 with value: 0.7237336917739398.\n"
     ]
    },
    {
     "name": "stderr",
     "output_type": "stream",
     "text": [
      "Best trial: 51. Best value: 0.723734:  63%|██████▎   | 63/100 [09:34<05:27,  8.85s/it]"
     ]
    },
    {
     "name": "stdout",
     "output_type": "stream",
     "text": [
      "[TIMER] evaluate_model took 8.9441 seconds\n",
      "[I 2025-04-19 23:59:26,268] Trial 62 finished with value: 0.7233995340540874 and parameters: {'lambda': 0.0014731599121965294, 'alpha': 0.06525101459440055, 'max_depth': 4, 'eta': 0.03594475746967554, 'gamma': 0.0001911896274228611, 'colsample_bytree': 0.6250598498269041, 'min_child_weight': 1}. Best is trial 51 with value: 0.7237336917739398.\n"
     ]
    },
    {
     "name": "stderr",
     "output_type": "stream",
     "text": [
      "Best trial: 51. Best value: 0.723734:  64%|██████▍   | 64/100 [09:42<05:18,  8.85s/it]"
     ]
    },
    {
     "name": "stdout",
     "output_type": "stream",
     "text": [
      "[TIMER] evaluate_model took 8.8096 seconds\n",
      "[I 2025-04-19 23:59:35,119] Trial 63 finished with value: 0.7230918033125008 and parameters: {'lambda': 0.002974318076030956, 'alpha': 0.8635188204080056, 'max_depth': 4, 'eta': 0.05729857312003661, 'gamma': 0.0007205046464791699, 'colsample_bytree': 0.5748849577493204, 'min_child_weight': 2}. Best is trial 51 with value: 0.7237336917739398.\n"
     ]
    },
    {
     "name": "stderr",
     "output_type": "stream",
     "text": [
      "Best trial: 51. Best value: 0.723734:  65%|██████▌   | 65/100 [09:51<05:10,  8.88s/it]"
     ]
    },
    {
     "name": "stdout",
     "output_type": "stream",
     "text": [
      "[TIMER] evaluate_model took 8.9155 seconds\n",
      "[I 2025-04-19 23:59:44,070] Trial 64 finished with value: 0.7231205798066624 and parameters: {'lambda': 0.001246408687276352, 'alpha': 0.2012706436845996, 'max_depth': 4, 'eta': 0.031075268783128173, 'gamma': 0.001810154387000842, 'colsample_bytree': 0.7008545279120304, 'min_child_weight': 3}. Best is trial 51 with value: 0.7237336917739398.\n"
     ]
    },
    {
     "name": "stderr",
     "output_type": "stream",
     "text": [
      "Best trial: 51. Best value: 0.723734:  66%|██████▌   | 66/100 [10:00<05:04,  8.94s/it]"
     ]
    },
    {
     "name": "stdout",
     "output_type": "stream",
     "text": [
      "[TIMER] evaluate_model took 9.0614 seconds\n",
      "[I 2025-04-19 23:59:53,164] Trial 65 finished with value: 0.7228101647795159 and parameters: {'lambda': 0.0020653081370978067, 'alpha': 0.10082900501849813, 'max_depth': 5, 'eta': 0.05276068815335923, 'gamma': 0.019349491879639573, 'colsample_bytree': 0.5380999130149654, 'min_child_weight': 4}. Best is trial 51 with value: 0.7237336917739398.\n"
     ]
    },
    {
     "name": "stderr",
     "output_type": "stream",
     "text": [
      "Best trial: 51. Best value: 0.723734:  67%|██████▋   | 67/100 [10:09<04:48,  8.75s/it]"
     ]
    },
    {
     "name": "stdout",
     "output_type": "stream",
     "text": [
      "[TIMER] evaluate_model took 8.2729 seconds\n",
      "[I 2025-04-20 00:00:01,478] Trial 66 finished with value: 0.7234392246029575 and parameters: {'lambda': 0.004391600343615395, 'alpha': 0.41773376353576, 'max_depth': 3, 'eta': 0.04796254755082846, 'gamma': 0.00023656508010617557, 'colsample_bytree': 0.6745006380015215, 'min_child_weight': 1}. Best is trial 51 with value: 0.7237336917739398.\n"
     ]
    },
    {
     "name": "stderr",
     "output_type": "stream",
     "text": [
      "Best trial: 51. Best value: 0.723734:  68%|██████▊   | 68/100 [10:17<04:38,  8.71s/it]"
     ]
    },
    {
     "name": "stdout",
     "output_type": "stream",
     "text": [
      "[TIMER] evaluate_model took 8.5794 seconds\n",
      "[I 2025-04-20 00:00:10,094] Trial 67 finished with value: 0.7232420332712225 and parameters: {'lambda': 0.5156561364847948, 'alpha': 0.2676810378546152, 'max_depth': 4, 'eta': 0.03314846811960112, 'gamma': 0.0005573080588982737, 'colsample_bytree': 0.47743893573694196, 'min_child_weight': 2}. Best is trial 51 with value: 0.7237336917739398.\n"
     ]
    },
    {
     "name": "stderr",
     "output_type": "stream",
     "text": [
      "Best trial: 51. Best value: 0.723734:  69%|██████▉   | 69/100 [10:26<04:24,  8.53s/it]"
     ]
    },
    {
     "name": "stdout",
     "output_type": "stream",
     "text": [
      "[TIMER] evaluate_model took 8.0443 seconds\n",
      "[I 2025-04-20 00:00:18,181] Trial 68 finished with value: 0.7234167974541147 and parameters: {'lambda': 0.006652253392576085, 'alpha': 0.765236973274364, 'max_depth': 3, 'eta': 0.08661369010910996, 'gamma': 0.008924172484867144, 'colsample_bytree': 0.5251017081786774, 'min_child_weight': 1}. Best is trial 51 with value: 0.7237336917739398.\n"
     ]
    },
    {
     "name": "stderr",
     "output_type": "stream",
     "text": [
      "Best trial: 51. Best value: 0.723734:  70%|███████   | 70/100 [10:35<04:21,  8.72s/it]"
     ]
    },
    {
     "name": "stdout",
     "output_type": "stream",
     "text": [
      "[TIMER] evaluate_model took 9.1354 seconds\n",
      "[I 2025-04-20 00:00:27,354] Trial 69 finished with value: 0.7233410972129296 and parameters: {'lambda': 0.0010065626136241189, 'alpha': 0.16116657430411052, 'max_depth': 5, 'eta': 0.03688775786267442, 'gamma': 0.0012764344880760886, 'colsample_bytree': 0.5758044738638078, 'min_child_weight': 2}. Best is trial 51 with value: 0.7237336917739398.\n"
     ]
    },
    {
     "name": "stderr",
     "output_type": "stream",
     "text": [
      "Best trial: 51. Best value: 0.723734:  71%|███████   | 71/100 [10:43<04:08,  8.58s/it]"
     ]
    },
    {
     "name": "stdout",
     "output_type": "stream",
     "text": [
      "[TIMER] evaluate_model took 8.2092 seconds\n",
      "[I 2025-04-20 00:00:35,598] Trial 70 finished with value: 0.7236453960067537 and parameters: {'lambda': 0.0027860477754355767, 'alpha': 0.03558976190742073, 'max_depth': 3, 'eta': 0.04450600299911112, 'gamma': 4.503378119389944e-05, 'colsample_bytree': 0.43964132058210525, 'min_child_weight': 4}. Best is trial 51 with value: 0.7237336917739398.\n"
     ]
    },
    {
     "name": "stderr",
     "output_type": "stream",
     "text": [
      "Best trial: 51. Best value: 0.723734:  72%|███████▏  | 72/100 [10:51<03:56,  8.46s/it]"
     ]
    },
    {
     "name": "stdout",
     "output_type": "stream",
     "text": [
      "[TIMER] evaluate_model took 8.1450 seconds\n",
      "[I 2025-04-20 00:00:43,789] Trial 71 finished with value: 0.723733095623569 and parameters: {'lambda': 0.003070957662639697, 'alpha': 0.023238437491713712, 'max_depth': 3, 'eta': 0.04433469604638323, 'gamma': 4.279280123348776e-05, 'colsample_bytree': 0.442198834736455, 'min_child_weight': 4}. Best is trial 51 with value: 0.7237336917739398.\n"
     ]
    },
    {
     "name": "stderr",
     "output_type": "stream",
     "text": [
      "Best trial: 51. Best value: 0.723734:  73%|███████▎  | 73/100 [10:59<03:46,  8.38s/it]"
     ]
    },
    {
     "name": "stdout",
     "output_type": "stream",
     "text": [
      "[TIMER] evaluate_model took 8.1551 seconds\n",
      "[I 2025-04-20 00:00:51,985] Trial 72 finished with value: 0.7234229631772082 and parameters: {'lambda': 0.0029353722506690037, 'alpha': 0.03855091836730253, 'max_depth': 3, 'eta': 0.04392617037514357, 'gamma': 2.963335360531641e-05, 'colsample_bytree': 0.38173076412412654, 'min_child_weight': 5}. Best is trial 51 with value: 0.7237336917739398.\n"
     ]
    },
    {
     "name": "stderr",
     "output_type": "stream",
     "text": [
      "Best trial: 51. Best value: 0.723734:  74%|███████▍  | 74/100 [11:07<03:36,  8.31s/it]"
     ]
    },
    {
     "name": "stdout",
     "output_type": "stream",
     "text": [
      "[TIMER] evaluate_model took 8.0992 seconds\n",
      "[I 2025-04-20 00:01:00,128] Trial 73 finished with value: 0.7235452554028192 and parameters: {'lambda': 0.015063404848083009, 'alpha': 0.023867511263567565, 'max_depth': 3, 'eta': 0.051446494667198035, 'gamma': 5.703285032008681e-05, 'colsample_bytree': 0.4256413026837214, 'min_child_weight': 4}. Best is trial 51 with value: 0.7237336917739398.\n"
     ]
    },
    {
     "name": "stderr",
     "output_type": "stream",
     "text": [
      "Best trial: 51. Best value: 0.723734:  75%|███████▌  | 75/100 [11:16<03:27,  8.29s/it]"
     ]
    },
    {
     "name": "stdout",
     "output_type": "stream",
     "text": [
      "[TIMER] evaluate_model took 8.2155 seconds\n",
      "[I 2025-04-20 00:01:08,378] Trial 74 finished with value: 0.7235470027375219 and parameters: {'lambda': 0.01712365233496705, 'alpha': 0.014656446415952628, 'max_depth': 3, 'eta': 0.05865276497970887, 'gamma': 8.069775686931354e-05, 'colsample_bytree': 0.43675560283245846, 'min_child_weight': 4}. Best is trial 51 with value: 0.7237336917739398.\n"
     ]
    },
    {
     "name": "stderr",
     "output_type": "stream",
     "text": [
      "Best trial: 51. Best value: 0.723734:  76%|███████▌  | 76/100 [11:24<03:18,  8.25s/it]"
     ]
    },
    {
     "name": "stdout",
     "output_type": "stream",
     "text": [
      "[TIMER] evaluate_model took 8.1180 seconds\n",
      "[I 2025-04-20 00:01:16,534] Trial 75 finished with value: 0.72351472090621 and parameters: {'lambda': 0.014521327701225379, 'alpha': 0.022220374491793725, 'max_depth': 3, 'eta': 0.057732483302899984, 'gamma': 4.86551691849731e-05, 'colsample_bytree': 0.4309914726683347, 'min_child_weight': 5}. Best is trial 51 with value: 0.7237336917739398.\n"
     ]
    },
    {
     "name": "stderr",
     "output_type": "stream",
     "text": [
      "Best trial: 51. Best value: 0.723734:  77%|███████▋  | 77/100 [11:32<03:09,  8.23s/it]"
     ]
    },
    {
     "name": "stdout",
     "output_type": "stream",
     "text": [
      "[TIMER] evaluate_model took 8.1482 seconds\n",
      "[I 2025-04-20 00:01:24,722] Trial 76 finished with value: 0.7235663939588944 and parameters: {'lambda': 0.01465284194458584, 'alpha': 0.02305043357921683, 'max_depth': 3, 'eta': 0.059138459819050616, 'gamma': 5.5126958583379835e-05, 'colsample_bytree': 0.4243957338356156, 'min_child_weight': 5}. Best is trial 51 with value: 0.7237336917739398.\n"
     ]
    },
    {
     "name": "stderr",
     "output_type": "stream",
     "text": [
      "Best trial: 51. Best value: 0.723734:  78%|███████▊  | 78/100 [11:40<03:00,  8.21s/it]"
     ]
    },
    {
     "name": "stdout",
     "output_type": "stream",
     "text": [
      "[TIMER] evaluate_model took 8.1367 seconds\n",
      "[I 2025-04-20 00:01:32,897] Trial 77 finished with value: 0.7237212590968369 and parameters: {'lambda': 0.025692690508186743, 'alpha': 0.013607199139039503, 'max_depth': 3, 'eta': 0.051098572605663896, 'gamma': 8.962787510017119e-05, 'colsample_bytree': 0.3833707372906812, 'min_child_weight': 4}. Best is trial 51 with value: 0.7237336917739398.\n"
     ]
    },
    {
     "name": "stderr",
     "output_type": "stream",
     "text": [
      "Best trial: 51. Best value: 0.723734:  79%|███████▉  | 79/100 [11:48<02:52,  8.19s/it]"
     ]
    },
    {
     "name": "stdout",
     "output_type": "stream",
     "text": [
      "[TIMER] evaluate_model took 8.0954 seconds\n",
      "[I 2025-04-20 00:01:41,033] Trial 78 finished with value: 0.7235538671935728 and parameters: {'lambda': 0.029589465942739736, 'alpha': 0.01202277451042714, 'max_depth': 3, 'eta': 0.06153013301495422, 'gamma': 1.2993423108560784e-05, 'colsample_bytree': 0.39355620638300354, 'min_child_weight': 6}. Best is trial 51 with value: 0.7237336917739398.\n"
     ]
    },
    {
     "name": "stderr",
     "output_type": "stream",
     "text": [
      "Best trial: 51. Best value: 0.723734:  80%|████████  | 80/100 [11:56<02:43,  8.16s/it]"
     ]
    },
    {
     "name": "stdout",
     "output_type": "stream",
     "text": [
      "[TIMER] evaluate_model took 8.0558 seconds\n",
      "[I 2025-04-20 00:01:49,127] Trial 79 finished with value: 0.7231257372109293 and parameters: {'lambda': 0.026292950923396334, 'alpha': 0.03289385482224548, 'max_depth': 3, 'eta': 0.07609234157640782, 'gamma': 1.4964901767800727e-05, 'colsample_bytree': 0.37837820768434577, 'min_child_weight': 6}. Best is trial 51 with value: 0.7237336917739398.\n"
     ]
    },
    {
     "name": "stderr",
     "output_type": "stream",
     "text": [
      "Best trial: 80. Best value: 0.723806:  81%|████████  | 81/100 [12:05<02:34,  8.15s/it]"
     ]
    },
    {
     "name": "stdout",
     "output_type": "stream",
     "text": [
      "[TIMER] evaluate_model took 8.0862 seconds\n",
      "[I 2025-04-20 00:01:57,255] Trial 80 finished with value: 0.7238063098126728 and parameters: {'lambda': 0.04503832600871369, 'alpha': 0.010710743032730669, 'max_depth': 3, 'eta': 0.06376163017589669, 'gamma': 9.682076593506058e-06, 'colsample_bytree': 0.3916003801317654, 'min_child_weight': 7}. Best is trial 80 with value: 0.7238063098126728.\n"
     ]
    },
    {
     "name": "stderr",
     "output_type": "stream",
     "text": [
      "Best trial: 80. Best value: 0.723806:  82%|████████▏ | 82/100 [12:13<02:26,  8.14s/it]"
     ]
    },
    {
     "name": "stdout",
     "output_type": "stream",
     "text": [
      "[TIMER] evaluate_model took 8.0734 seconds\n",
      "[I 2025-04-20 00:02:05,363] Trial 81 finished with value: 0.7235218812058056 and parameters: {'lambda': 0.04269805228373706, 'alpha': 0.010705910776142993, 'max_depth': 3, 'eta': 0.06252516321177326, 'gamma': 4.318341328918862e-06, 'colsample_bytree': 0.3956362599327048, 'min_child_weight': 7}. Best is trial 80 with value: 0.7238063098126728.\n"
     ]
    },
    {
     "name": "stderr",
     "output_type": "stream",
     "text": [
      "Best trial: 80. Best value: 0.723806:  83%|████████▎ | 83/100 [12:21<02:19,  8.23s/it]"
     ]
    },
    {
     "name": "stdout",
     "output_type": "stream",
     "text": [
      "[TIMER] evaluate_model took 8.3849 seconds\n",
      "[I 2025-04-20 00:02:13,791] Trial 82 finished with value: 0.7229437163289598 and parameters: {'lambda': 0.062382026958185406, 'alpha': 0.008043973948147157, 'max_depth': 3, 'eta': 0.05434838522986511, 'gamma': 8.54731767931522e-06, 'colsample_bytree': 0.33517788188602254, 'min_child_weight': 7}. Best is trial 80 with value: 0.7238063098126728.\n"
     ]
    },
    {
     "name": "stderr",
     "output_type": "stream",
     "text": [
      "Best trial: 80. Best value: 0.723806:  84%|████████▍ | 84/100 [12:30<02:14,  8.38s/it]"
     ]
    },
    {
     "name": "stdout",
     "output_type": "stream",
     "text": [
      "[TIMER] evaluate_model took 8.6832 seconds\n",
      "[I 2025-04-20 00:02:22,518] Trial 83 finished with value: 0.723359333379845 and parameters: {'lambda': 0.0756924254455937, 'alpha': 0.018104994605314843, 'max_depth': 3, 'eta': 0.05026726983161325, 'gamma': 2.0038207937239964e-05, 'colsample_bytree': 0.46448121642121826, 'min_child_weight': 6}. Best is trial 80 with value: 0.7238063098126728.\n"
     ]
    },
    {
     "name": "stderr",
     "output_type": "stream",
     "text": [
      "Best trial: 80. Best value: 0.723806:  85%|████████▌ | 85/100 [12:38<02:04,  8.27s/it]"
     ]
    },
    {
     "name": "stdout",
     "output_type": "stream",
     "text": [
      "[TIMER] evaluate_model took 7.9967 seconds\n",
      "[I 2025-04-20 00:02:30,556] Trial 84 finished with value: 0.7234499809313684 and parameters: {'lambda': 0.035639998236275096, 'alpha': 0.012686629480299803, 'max_depth': 3, 'eta': 0.06780815577980724, 'gamma': 0.00012499784243365922, 'colsample_bytree': 0.3588126836473669, 'min_child_weight': 5}. Best is trial 80 with value: 0.7238063098126728.\n"
     ]
    },
    {
     "name": "stderr",
     "output_type": "stream",
     "text": [
      "Best trial: 80. Best value: 0.723806:  86%|████████▌ | 86/100 [12:46<01:54,  8.19s/it]"
     ]
    },
    {
     "name": "stdout",
     "output_type": "stream",
     "text": [
      "[TIMER] evaluate_model took 7.9665 seconds\n",
      "[I 2025-04-20 00:02:38,556] Trial 85 finished with value: 0.7229573142915892 and parameters: {'lambda': 0.025255048664273038, 'alpha': 0.04370362872028347, 'max_depth': 3, 'eta': 0.04674281188406314, 'gamma': 3.475774236460875e-05, 'colsample_bytree': 0.30673320241354673, 'min_child_weight': 6}. Best is trial 80 with value: 0.7238063098126728.\n"
     ]
    },
    {
     "name": "stderr",
     "output_type": "stream",
     "text": [
      "Best trial: 80. Best value: 0.723806:  87%|████████▋ | 87/100 [12:54<01:46,  8.17s/it]"
     ]
    },
    {
     "name": "stdout",
     "output_type": "stream",
     "text": [
      "[TIMER] evaluate_model took 8.0989 seconds\n",
      "[I 2025-04-20 00:02:46,691] Trial 86 finished with value: 0.7233155368362946 and parameters: {'lambda': 0.19618309688271343, 'alpha': 0.01661577014256229, 'max_depth': 3, 'eta': 0.06070201724282966, 'gamma': 3.775970571083145e-06, 'colsample_bytree': 0.4036130804228318, 'min_child_weight': 8}. Best is trial 80 with value: 0.7238063098126728.\n"
     ]
    },
    {
     "name": "stderr",
     "output_type": "stream",
     "text": [
      "Best trial: 80. Best value: 0.723806:  88%|████████▊ | 88/100 [13:02<01:37,  8.12s/it]"
     ]
    },
    {
     "name": "stdout",
     "output_type": "stream",
     "text": [
      "[TIMER] evaluate_model took 7.9405 seconds\n",
      "[I 2025-04-20 00:02:54,667] Trial 87 finished with value: 0.7224867537110298 and parameters: {'lambda': 0.0966054656691036, 'alpha': 0.004116691137665797, 'max_depth': 3, 'eta': 0.08222663616156695, 'gamma': 2.262259295143555e-06, 'colsample_bytree': 0.28402981551937356, 'min_child_weight': 5}. Best is trial 80 with value: 0.7238063098126728.\n"
     ]
    },
    {
     "name": "stderr",
     "output_type": "stream",
     "text": [
      "Best trial: 80. Best value: 0.723806:  89%|████████▉ | 89/100 [13:10<01:29,  8.13s/it]"
     ]
    },
    {
     "name": "stdout",
     "output_type": "stream",
     "text": [
      "[TIMER] evaluate_model took 8.1205 seconds\n",
      "[I 2025-04-20 00:03:02,826] Trial 88 finished with value: 0.7235453305973107 and parameters: {'lambda': 0.01199023525936178, 'alpha': 0.0642458348531528, 'max_depth': 3, 'eta': 0.04150791151766858, 'gamma': 1.0036785612903609e-05, 'colsample_bytree': 0.43348704539705374, 'min_child_weight': 4}. Best is trial 80 with value: 0.7238063098126728.\n"
     ]
    },
    {
     "name": "stderr",
     "output_type": "stream",
     "text": [
      "Best trial: 80. Best value: 0.723806:  90%|█████████ | 90/100 [13:18<01:21,  8.12s/it]"
     ]
    },
    {
     "name": "stdout",
     "output_type": "stream",
     "text": [
      "[TIMER] evaluate_model took 8.0704 seconds\n",
      "[I 2025-04-20 00:03:10,934] Trial 89 finished with value: 0.7235932476288129 and parameters: {'lambda': 0.03648666975453146, 'alpha': 0.028992585780439277, 'max_depth': 3, 'eta': 0.0651138503222752, 'gamma': 0.00010000706281465293, 'colsample_bytree': 0.474887214349979, 'min_child_weight': 5}. Best is trial 80 with value: 0.7238063098126728.\n"
     ]
    },
    {
     "name": "stderr",
     "output_type": "stream",
     "text": [
      "Best trial: 80. Best value: 0.723806:  91%|█████████ | 91/100 [13:26<01:12,  8.11s/it]"
     ]
    },
    {
     "name": "stdout",
     "output_type": "stream",
     "text": [
      "[TIMER] evaluate_model took 8.0352 seconds\n",
      "[I 2025-04-20 00:03:19,012] Trial 90 finished with value: 0.7236430561523631 and parameters: {'lambda': 0.021276167385096315, 'alpha': 0.026223403007715154, 'max_depth': 3, 'eta': 0.05519475857690528, 'gamma': 0.00030281778511783087, 'colsample_bytree': 0.516541507991679, 'min_child_weight': 5}. Best is trial 80 with value: 0.7238063098126728.\n"
     ]
    },
    {
     "name": "stderr",
     "output_type": "stream",
     "text": [
      "Best trial: 80. Best value: 0.723806:  92%|█████████▏| 92/100 [13:34<01:04,  8.11s/it]"
     ]
    },
    {
     "name": "stdout",
     "output_type": "stream",
     "text": [
      "[TIMER] evaluate_model took 8.0882 seconds\n",
      "[I 2025-04-20 00:03:27,136] Trial 91 finished with value: 0.7235432939112151 and parameters: {'lambda': 0.048614328859144074, 'alpha': 0.024202844576058265, 'max_depth': 3, 'eta': 0.0662375793694211, 'gamma': 0.00019515219134498066, 'colsample_bytree': 0.4863600948839506, 'min_child_weight': 5}. Best is trial 80 with value: 0.7238063098126728.\n"
     ]
    },
    {
     "name": "stderr",
     "output_type": "stream",
     "text": [
      "Best trial: 80. Best value: 0.723806:  93%|█████████▎| 93/100 [13:43<00:56,  8.12s/it]"
     ]
    },
    {
     "name": "stdout",
     "output_type": "stream",
     "text": [
      "[TIMER] evaluate_model took 8.1049 seconds\n",
      "[I 2025-04-20 00:03:35,283] Trial 92 finished with value: 0.7235460433659536 and parameters: {'lambda': 0.02086558670790549, 'alpha': 0.03444779927322528, 'max_depth': 3, 'eta': 0.05433625010873495, 'gamma': 9.947503508575943e-05, 'colsample_bytree': 0.5212922038850817, 'min_child_weight': 5}. Best is trial 80 with value: 0.7238063098126728.\n"
     ]
    },
    {
     "name": "stderr",
     "output_type": "stream",
     "text": [
      "Best trial: 80. Best value: 0.723806:  94%|█████████▍| 94/100 [13:51<00:50,  8.34s/it]"
     ]
    },
    {
     "name": "stdout",
     "output_type": "stream",
     "text": [
      "[TIMER] evaluate_model took 8.7937 seconds\n",
      "[I 2025-04-20 00:03:44,114] Trial 93 finished with value: 0.7236432335074061 and parameters: {'lambda': 0.019486294047558892, 'alpha': 0.026766659723112648, 'max_depth': 3, 'eta': 0.04975342079365708, 'gamma': 0.00028114795220413275, 'colsample_bytree': 0.44904203615586336, 'min_child_weight': 5}. Best is trial 80 with value: 0.7238063098126728.\n"
     ]
    },
    {
     "name": "stderr",
     "output_type": "stream",
     "text": [
      "Best trial: 80. Best value: 0.723806:  95%|█████████▌| 95/100 [14:00<00:41,  8.39s/it]"
     ]
    },
    {
     "name": "stdout",
     "output_type": "stream",
     "text": [
      "[TIMER] evaluate_model took 8.4698 seconds\n",
      "[I 2025-04-20 00:03:52,621] Trial 94 finished with value: 0.7236234828081514 and parameters: {'lambda': 0.021476738372288924, 'alpha': 0.028803410448830523, 'max_depth': 3, 'eta': 0.04905800695314863, 'gamma': 0.0004034655175388793, 'colsample_bytree': 0.44940024985071225, 'min_child_weight': 4}. Best is trial 80 with value: 0.7238063098126728.\n"
     ]
    },
    {
     "name": "stderr",
     "output_type": "stream",
     "text": [
      "Best trial: 80. Best value: 0.723806:  96%|█████████▌| 96/100 [14:08<00:33,  8.31s/it]"
     ]
    },
    {
     "name": "stdout",
     "output_type": "stream",
     "text": [
      "[TIMER] evaluate_model took 8.0800 seconds\n",
      "[I 2025-04-20 00:04:00,736] Trial 95 finished with value: 0.7235802351861027 and parameters: {'lambda': 0.023221105987118153, 'alpha': 0.029329860709077293, 'max_depth': 3, 'eta': 0.047860746390719286, 'gamma': 0.0003615970960901309, 'colsample_bytree': 0.45158929387059327, 'min_child_weight': 4}. Best is trial 80 with value: 0.7238063098126728.\n"
     ]
    },
    {
     "name": "stderr",
     "output_type": "stream",
     "text": [
      "Best trial: 80. Best value: 0.723806:  97%|█████████▋| 97/100 [14:16<00:24,  8.28s/it]"
     ]
    },
    {
     "name": "stdout",
     "output_type": "stream",
     "text": [
      "[TIMER] evaluate_model took 8.1883 seconds\n",
      "[I 2025-04-20 00:04:08,960] Trial 96 finished with value: 0.7235035370673211 and parameters: {'lambda': 0.03888852124435379, 'alpha': 0.0556663715666135, 'max_depth': 3, 'eta': 0.04966014160551686, 'gamma': 0.0002483118129670346, 'colsample_bytree': 0.44914891441301075, 'min_child_weight': 4}. Best is trial 80 with value: 0.7238063098126728.\n"
     ]
    },
    {
     "name": "stderr",
     "output_type": "stream",
     "text": [
      "Best trial: 97. Best value: 0.72385:  98%|█████████▊| 98/100 [14:25<00:16,  8.26s/it] "
     ]
    },
    {
     "name": "stdout",
     "output_type": "stream",
     "text": [
      "[TIMER] evaluate_model took 8.1787 seconds\n",
      "[I 2025-04-20 00:04:17,180] Trial 97 finished with value: 0.723850493884252 and parameters: {'lambda': 0.055843546186885286, 'alpha': 0.018944297562412032, 'max_depth': 3, 'eta': 0.04570226992230634, 'gamma': 0.00015114949913254874, 'colsample_bytree': 0.46942908214568885, 'min_child_weight': 4}. Best is trial 97 with value: 0.723850493884252.\n"
     ]
    },
    {
     "name": "stderr",
     "output_type": "stream",
     "text": [
      "Best trial: 97. Best value: 0.72385:  99%|█████████▉| 99/100 [14:33<00:08,  8.24s/it]"
     ]
    },
    {
     "name": "stdout",
     "output_type": "stream",
     "text": [
      "[TIMER] evaluate_model took 8.1346 seconds\n",
      "[I 2025-04-20 00:04:25,358] Trial 98 finished with value: 0.7233807202257597 and parameters: {'lambda': 0.054023232686829924, 'alpha': 0.007111293710803318, 'max_depth': 3, 'eta': 0.039901713596209906, 'gamma': 0.0004463069912226107, 'colsample_bytree': 0.5064492196361485, 'min_child_weight': 4}. Best is trial 97 with value: 0.723850493884252.\n"
     ]
    },
    {
     "name": "stderr",
     "output_type": "stream",
     "text": [
      "Best trial: 97. Best value: 0.72385: 100%|██████████| 100/100 [14:41<00:00,  8.82s/it]"
     ]
    },
    {
     "name": "stdout",
     "output_type": "stream",
     "text": [
      "[TIMER] evaluate_model took 8.2720 seconds\n",
      "[I 2025-04-20 00:04:33,665] Trial 99 finished with value: 0.7235423961818933 and parameters: {'lambda': 0.010879261875120418, 'alpha': 0.010220605779032266, 'max_depth': 3, 'eta': 0.04487682914361342, 'gamma': 0.00016530591204797586, 'colsample_bytree': 0.4143165965538725, 'min_child_weight': 4}. Best is trial 97 with value: 0.723850493884252.\n",
      "Best Parameters:  {'lambda': 0.055843546186885286, 'alpha': 0.018944297562412032, 'max_depth': 3, 'eta': 0.04570226992230634, 'gamma': 0.00015114949913254874, 'colsample_bytree': 0.46942908214568885, 'min_child_weight': 4}\n",
      "Best Score:  0.723850493884252\n"
     ]
    },
    {
     "name": "stderr",
     "output_type": "stream",
     "text": [
      "\n"
     ]
    }
   ],
   "source": [
    "import optuna\n",
    "from optuna import Trial\n",
    "from imblearn.over_sampling import SMOTE\n",
    "from imblearn.pipeline import Pipeline\n",
    "\n",
    "\n",
    "def objective(trial: Trial):\n",
    "    params = {\n",
    "        'objective': 'binary:logistic',\n",
    "        'eval_metric': 'logloss',\n",
    "        'verbosity': 0,\n",
    "        'booster': 'gbtree',\n",
    "        'lambda': trial.suggest_float('lambda', 1e-3, 10.0, log = True),\n",
    "        'alpha': trial.suggest_float('alpha', 1e-3, 10.0, log = True),\n",
    "        'max_depth': trial.suggest_int('max_depth', 3, 9),\n",
    "        'eta': trial.suggest_float('eta', 0.01, 0.1, log = True),\n",
    "        'gamma': trial.suggest_float('gamma', 1e-8, 1.0, log = True),\n",
    "        'colsample_bytree': trial.suggest_float('colsample_bytree', 0.1, 1.0),\n",
    "        'min_child_weight': trial.suggest_int('min_child_weight', 1, 10),\n",
    "    }   \n",
    "\n",
    "\n",
    "    xgboost = xgb.XGBClassifier(**params)\n",
    "    pipe = Pipeline(steps=[\n",
    "        ('smote', SMOTE(k_neighbors=5, random_state=42)),\n",
    "        ('model', xgboost)\n",
    "    ])\n",
    "    metrics = evaluate_model(pipe, numerical_data, target, skf)\n",
    "    return metrics['f1']\n",
    "\n",
    "study = optuna.create_study(direction='maximize')\n",
    "\n",
    "study.optimize(objective, show_progress_bar = True, n_trials=100)\n",
    "print(\"Best Parameters: \", study.best_params)\n",
    "print(\"Best Score: \", study.best_value)\n"
   ]
  },
  {
   "cell_type": "markdown",
   "id": "2be49cb3",
   "metadata": {},
   "source": []
  },
  {
   "cell_type": "code",
   "execution_count": 36,
   "id": "98d0806f",
   "metadata": {},
   "outputs": [
    {
     "ename": "ValueError",
     "evalue": "could not convert string to float: 'Spain'",
     "output_type": "error",
     "traceback": [
      "\u001b[31m---------------------------------------------------------------------------\u001b[39m",
      "\u001b[31mValueError\u001b[39m                                Traceback (most recent call last)",
      "\u001b[32m~\\AppData\\Local\\Temp\\ipykernel_11092\\3955678915.py\u001b[39m in \u001b[36m?\u001b[39m\u001b[34m()\u001b[39m\n\u001b[32m     57\u001b[39m     axes[-\u001b[32m2\u001b[39m].remove()\n\u001b[32m     58\u001b[39m     axes[-\u001b[32m3\u001b[39m].remove()\n\u001b[32m     59\u001b[39m \n\u001b[32m     60\u001b[39m     \u001b[38;5;28;01mreturn\u001b[39;00m fig\n\u001b[32m---> \u001b[39m\u001b[32m61\u001b[39m plot_bivariate_analysis(oversample = \u001b[38;5;28;01mTrue\u001b[39;00m)\n",
      "\u001b[32m~\\AppData\\Local\\Temp\\ipykernel_11092\\3955678915.py\u001b[39m in \u001b[36m?\u001b[39m\u001b[34m(oversample)\u001b[39m\n\u001b[32m      4\u001b[39m \u001b[38;5;28;01mdef\u001b[39;00m plot_bivariate_analysis(oversample: bool) -> plt.Figure:\n\u001b[32m      5\u001b[39m     \u001b[38;5;28;01mif\u001b[39;00m oversample:\n\u001b[32m      6\u001b[39m         smote = SMOTE(k_neighbors = \u001b[32m5\u001b[39m)\n\u001b[32m----> \u001b[39m\u001b[32m7\u001b[39m         alzheimers_resampled, alzheimers_resampled_class = smote.fit_resample(\n\u001b[32m      8\u001b[39m             alzheimers.drop(\u001b[33m\"Alzheimer’s Diagnosis\"\u001b[39m, axis=\u001b[32m1\u001b[39m),\n\u001b[32m      9\u001b[39m             alzheimers[\u001b[33m\"Alzheimer’s Diagnosis\"\u001b[39m],\n\u001b[32m     10\u001b[39m         )\n",
      "\u001b[32mc:\\HW\\Spring_2025_MSU\\STT811\\PROJ\\ALZ_PROJ\\.venv\\Lib\\site-packages\\imblearn\\base.py\u001b[39m in \u001b[36m?\u001b[39m\u001b[34m(self, X, y, **params)\u001b[39m\n\u001b[32m    198\u001b[39m \n\u001b[32m    199\u001b[39m         y_resampled : array-like of shape (n_samples_new,)\n\u001b[32m    200\u001b[39m             The corresponding label of `X_resampled`.\n\u001b[32m    201\u001b[39m         \"\"\"\n\u001b[32m--> \u001b[39m\u001b[32m202\u001b[39m         \u001b[38;5;28;01mreturn\u001b[39;00m super().fit_resample(X, y, **params)\n",
      "\u001b[32mc:\\HW\\Spring_2025_MSU\\STT811\\PROJ\\ALZ_PROJ\\.venv\\Lib\\site-packages\\sklearn\\base.py\u001b[39m in \u001b[36m?\u001b[39m\u001b[34m(estimator, *args, **kwargs)\u001b[39m\n\u001b[32m   1385\u001b[39m                 skip_parameter_validation=(\n\u001b[32m   1386\u001b[39m                     prefer_skip_nested_validation \u001b[38;5;28;01mor\u001b[39;00m global_skip_validation\n\u001b[32m   1387\u001b[39m                 )\n\u001b[32m   1388\u001b[39m             ):\n\u001b[32m-> \u001b[39m\u001b[32m1389\u001b[39m                 \u001b[38;5;28;01mreturn\u001b[39;00m fit_method(estimator, *args, **kwargs)\n",
      "\u001b[32mc:\\HW\\Spring_2025_MSU\\STT811\\PROJ\\ALZ_PROJ\\.venv\\Lib\\site-packages\\imblearn\\base.py\u001b[39m in \u001b[36m?\u001b[39m\u001b[34m(self, X, y, **params)\u001b[39m\n\u001b[32m     95\u001b[39m             The corresponding label of `X_resampled`.\n\u001b[32m     96\u001b[39m         \"\"\"\n\u001b[32m     97\u001b[39m         check_classification_targets(y)\n\u001b[32m     98\u001b[39m         arrays_transformer = ArraysTransformer(X, y)\n\u001b[32m---> \u001b[39m\u001b[32m99\u001b[39m         X, y, binarize_y = self._check_X_y(X, y)\n\u001b[32m    100\u001b[39m \n\u001b[32m    101\u001b[39m         self.sampling_strategy_ = check_sampling_strategy(\n\u001b[32m    102\u001b[39m             self.sampling_strategy, y, self._sampling_type\n",
      "\u001b[32mc:\\HW\\Spring_2025_MSU\\STT811\\PROJ\\ALZ_PROJ\\.venv\\Lib\\site-packages\\imblearn\\base.py\u001b[39m in \u001b[36m?\u001b[39m\u001b[34m(self, X, y, accept_sparse)\u001b[39m\n\u001b[32m    153\u001b[39m     \u001b[38;5;28;01mdef\u001b[39;00m _check_X_y(self, X, y, accept_sparse=\u001b[38;5;28;01mNone\u001b[39;00m):\n\u001b[32m    154\u001b[39m         \u001b[38;5;28;01mif\u001b[39;00m accept_sparse \u001b[38;5;28;01mis\u001b[39;00m \u001b[38;5;28;01mNone\u001b[39;00m:\n\u001b[32m    155\u001b[39m             accept_sparse = [\u001b[33m\"csr\"\u001b[39m, \u001b[33m\"csc\"\u001b[39m]\n\u001b[32m    156\u001b[39m         y, binarize_y = check_target_type(y, indicate_one_vs_all=\u001b[38;5;28;01mTrue\u001b[39;00m)\n\u001b[32m--> \u001b[39m\u001b[32m157\u001b[39m         X, y = validate_data(self, X=X, y=y, reset=\u001b[38;5;28;01mTrue\u001b[39;00m, accept_sparse=accept_sparse)\n\u001b[32m    158\u001b[39m         \u001b[38;5;28;01mreturn\u001b[39;00m X, y, binarize_y\n",
      "\u001b[32mc:\\HW\\Spring_2025_MSU\\STT811\\PROJ\\ALZ_PROJ\\.venv\\Lib\\site-packages\\sklearn\\utils\\validation.py\u001b[39m in \u001b[36m?\u001b[39m\u001b[34m(_estimator, X, y, reset, validate_separately, skip_check_array, **check_params)\u001b[39m\n\u001b[32m   2957\u001b[39m             \u001b[38;5;28;01mif\u001b[39;00m \u001b[33m\"estimator\"\u001b[39m \u001b[38;5;28;01mnot\u001b[39;00m \u001b[38;5;28;01min\u001b[39;00m check_y_params:\n\u001b[32m   2958\u001b[39m                 check_y_params = {**default_check_params, **check_y_params}\n\u001b[32m   2959\u001b[39m             y = check_array(y, input_name=\u001b[33m\"y\"\u001b[39m, **check_y_params)\n\u001b[32m   2960\u001b[39m         \u001b[38;5;28;01melse\u001b[39;00m:\n\u001b[32m-> \u001b[39m\u001b[32m2961\u001b[39m             X, y = check_X_y(X, y, **check_params)\n\u001b[32m   2962\u001b[39m         out = X, y\n\u001b[32m   2963\u001b[39m \n\u001b[32m   2964\u001b[39m     \u001b[38;5;28;01mif\u001b[39;00m \u001b[38;5;28;01mnot\u001b[39;00m no_val_X \u001b[38;5;28;01mand\u001b[39;00m check_params.get(\u001b[33m\"ensure_2d\"\u001b[39m, \u001b[38;5;28;01mTrue\u001b[39;00m):\n",
      "\u001b[32mc:\\HW\\Spring_2025_MSU\\STT811\\PROJ\\ALZ_PROJ\\.venv\\Lib\\site-packages\\sklearn\\utils\\validation.py\u001b[39m in \u001b[36m?\u001b[39m\u001b[34m(X, y, accept_sparse, accept_large_sparse, dtype, order, copy, force_writeable, force_all_finite, ensure_all_finite, ensure_2d, allow_nd, multi_output, ensure_min_samples, ensure_min_features, y_numeric, estimator)\u001b[39m\n\u001b[32m   1366\u001b[39m         )\n\u001b[32m   1367\u001b[39m \n\u001b[32m   1368\u001b[39m     ensure_all_finite = _deprecate_force_all_finite(force_all_finite, ensure_all_finite)\n\u001b[32m   1369\u001b[39m \n\u001b[32m-> \u001b[39m\u001b[32m1370\u001b[39m     X = check_array(\n\u001b[32m   1371\u001b[39m         X,\n\u001b[32m   1372\u001b[39m         accept_sparse=accept_sparse,\n\u001b[32m   1373\u001b[39m         accept_large_sparse=accept_large_sparse,\n",
      "\u001b[32mc:\\HW\\Spring_2025_MSU\\STT811\\PROJ\\ALZ_PROJ\\.venv\\Lib\\site-packages\\sklearn\\utils\\validation.py\u001b[39m in \u001b[36m?\u001b[39m\u001b[34m(array, accept_sparse, accept_large_sparse, dtype, order, copy, force_writeable, force_all_finite, ensure_all_finite, ensure_non_negative, ensure_2d, allow_nd, ensure_min_samples, ensure_min_features, estimator, input_name)\u001b[39m\n\u001b[32m   1052\u001b[39m                         )\n\u001b[32m   1053\u001b[39m                     array = xp.astype(array, dtype, copy=\u001b[38;5;28;01mFalse\u001b[39;00m)\n\u001b[32m   1054\u001b[39m                 \u001b[38;5;28;01melse\u001b[39;00m:\n\u001b[32m   1055\u001b[39m                     array = _asarray_with_order(array, order=order, dtype=dtype, xp=xp)\n\u001b[32m-> \u001b[39m\u001b[32m1056\u001b[39m             \u001b[38;5;28;01mexcept\u001b[39;00m ComplexWarning \u001b[38;5;28;01mas\u001b[39;00m complex_warning:\n\u001b[32m   1057\u001b[39m                 raise ValueError(\n\u001b[32m   1058\u001b[39m                     \u001b[33m\"Complex data not supported\\n{}\\n\"\u001b[39m.format(array)\n\u001b[32m   1059\u001b[39m                 ) \u001b[38;5;28;01mfrom\u001b[39;00m complex_warning\n",
      "\u001b[32mc:\\HW\\Spring_2025_MSU\\STT811\\PROJ\\ALZ_PROJ\\.venv\\Lib\\site-packages\\sklearn\\utils\\_array_api.py\u001b[39m in \u001b[36m?\u001b[39m\u001b[34m(array, dtype, order, copy, xp, device)\u001b[39m\n\u001b[32m    835\u001b[39m         \u001b[38;5;66;03m# Use NumPy API to support order\u001b[39;00m\n\u001b[32m    836\u001b[39m         \u001b[38;5;28;01mif\u001b[39;00m copy \u001b[38;5;28;01mis\u001b[39;00m \u001b[38;5;28;01mTrue\u001b[39;00m:\n\u001b[32m    837\u001b[39m             array = numpy.array(array, order=order, dtype=dtype)\n\u001b[32m    838\u001b[39m         \u001b[38;5;28;01melse\u001b[39;00m:\n\u001b[32m--> \u001b[39m\u001b[32m839\u001b[39m             array = numpy.asarray(array, order=order, dtype=dtype)\n\u001b[32m    840\u001b[39m \n\u001b[32m    841\u001b[39m         \u001b[38;5;66;03m# At this point array is a NumPy ndarray. We convert it to an array\u001b[39;00m\n\u001b[32m    842\u001b[39m         \u001b[38;5;66;03m# container that is consistent with the input's namespace.\u001b[39;00m\n",
      "\u001b[32mc:\\HW\\Spring_2025_MSU\\STT811\\PROJ\\ALZ_PROJ\\.venv\\Lib\\site-packages\\pandas\\core\\generic.py\u001b[39m in \u001b[36m?\u001b[39m\u001b[34m(self, dtype, copy)\u001b[39m\n\u001b[32m   2149\u001b[39m     def __array__(\n\u001b[32m   2150\u001b[39m         self, dtype: npt.DTypeLike | \u001b[38;5;28;01mNone\u001b[39;00m = \u001b[38;5;28;01mNone\u001b[39;00m, copy: bool_t | \u001b[38;5;28;01mNone\u001b[39;00m = \u001b[38;5;28;01mNone\u001b[39;00m\n\u001b[32m   2151\u001b[39m     ) -> np.ndarray:\n\u001b[32m   2152\u001b[39m         values = self._values\n\u001b[32m-> \u001b[39m\u001b[32m2153\u001b[39m         arr = np.asarray(values, dtype=dtype)\n\u001b[32m   2154\u001b[39m         if (\n\u001b[32m   2155\u001b[39m             astype_is_view(values.dtype, arr.dtype)\n\u001b[32m   2156\u001b[39m             \u001b[38;5;28;01mand\u001b[39;00m using_copy_on_write()\n",
      "\u001b[31mValueError\u001b[39m: could not convert string to float: 'Spain'"
     ]
    }
   ],
   "source": [
    "import matplotlib.pyplot as plt\n",
    "import seaborn as sns\n",
    "\n",
    "def plot_bivariate_analysis(oversample: bool) -> plt.Figure:\n",
    "    if oversample:\n",
    "        smote = SMOTE(k_neighbors = 5)\n",
    "        alzheimers_resampled, alzheimers_resampled_class = smote.fit_resample(\n",
    "            alzheimers.drop(\"Alzheimer’s Diagnosis\", axis=1),\n",
    "            alzheimers[\"Alzheimer’s Diagnosis\"],\n",
    "        )\n",
    "        alzheimers_resampled = pd.concat([alzheimers_resampled, alzheimers_resampled_class], axis = 1)\n",
    "        data = alzheimers_resampled\n",
    "    else:\n",
    "        data = alzheimers\n",
    "\n",
    "    fig, axes = plt.subplots(7, 4, figsize=(16, 24))\n",
    "    axes: list[plt.Axes] = axes.ravel()\n",
    "\n",
    "    def plot_kdeplot_bivariate(x, ax: plt.Axes):\n",
    "        sns.kdeplot(\n",
    "            data = data,\n",
    "            x = x,\n",
    "            hue = 'Alzheimer’s Diagnosis',\n",
    "            ax = ax,\n",
    "            legend = False\n",
    "        )\n",
    "        ax.set_title(x)\n",
    "        ax.set_yticks([], [])\n",
    "\n",
    "    def plot_histplot_bivariate(x, ax: plt.Axes):\n",
    "        sns.histplot(\n",
    "            data = data,\n",
    "            x = x,\n",
    "            hue = 'Alzheimer’s Diagnosis',\n",
    "            ax = ax,\n",
    "            multiple = 'dodge',\n",
    "            legend = False\n",
    "        )\n",
    "        ax.set_title(x)\n",
    "        ax.set_yticks([], [])\n",
    "\n",
    "    # Numerical ones first\n",
    "    numerical_columns = list(alzheimers.select_dtypes(include = 'number').columns)\n",
    "    categorical_columns = list(alzheimers.select_dtypes(include = 'object').columns)\n",
    "\n",
    "    ax_idx = 0\n",
    "    for numerical_column in numerical_columns:\n",
    "        plot_kdeplot_bivariate(numerical_column, axes[ax_idx])\n",
    "        ax_idx += 1\n",
    "\n",
    "    for categorical_column in categorical_columns:\n",
    "        plot_histplot_bivariate(categorical_column, axes[ax_idx])\n",
    "        ax_idx += 1\n",
    "    plt.tight_layout()\n",
    "\n",
    "    axes[-1].remove()\n",
    "    axes[-2].remove()\n",
    "    axes[-3].remove()               \n",
    "\n",
    "    return fig\n",
    "plot_bivariate_analysis(oversample = True)\n"
   ]
  }
 ],
 "metadata": {
  "kernelspec": {
   "display_name": ".venv",
   "language": "python",
   "name": "python3"
  },
  "language_info": {
   "codemirror_mode": {
    "name": "ipython",
    "version": 3
   },
   "file_extension": ".py",
   "mimetype": "text/x-python",
   "name": "python",
   "nbconvert_exporter": "python",
   "pygments_lexer": "ipython3",
   "version": "3.13.1"
  }
 },
 "nbformat": 4,
 "nbformat_minor": 5
}
