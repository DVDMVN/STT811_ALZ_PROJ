{
 "cells": [
  {
   "cell_type": "markdown",
   "metadata": {},
   "source": [
    "# Exploring the Alzheimer's prediction dataset from [kaggle](https://www.kaggle.com/datasets/ankushpanday1/alzheimers-prediction-dataset-global)"
   ]
  },
  {
   "cell_type": "markdown",
   "metadata": {},
   "source": [
    "### Loading the Dataset"
   ]
  },
  {
   "cell_type": "code",
   "execution_count": null,
   "metadata": {},
   "outputs": [],
   "source": [
    "import pandas as pd\n",
    "\n",
    "alzheimers = pd.read_csv(\"data/alzheimers.csv\")"
   ]
  },
  {
   "cell_type": "markdown",
   "metadata": {},
   "source": [
    "### Summary Statistics"
   ]
  },
  {
   "cell_type": "code",
   "execution_count": 4,
   "metadata": {},
   "outputs": [
    {
     "data": {
      "text/html": [
       "<style type=\"text/css\">\n",
       "</style>\n",
       "<table id=\"T_87a53\">\n",
       "  <caption>Numerical Columns</caption>\n",
       "  <thead>\n",
       "    <tr>\n",
       "      <th class=\"blank level0\" >&nbsp;</th>\n",
       "      <th id=\"T_87a53_level0_col0\" class=\"col_heading level0 col0\" >Age</th>\n",
       "      <th id=\"T_87a53_level0_col1\" class=\"col_heading level0 col1\" >Education Level</th>\n",
       "      <th id=\"T_87a53_level0_col2\" class=\"col_heading level0 col2\" >BMI</th>\n",
       "      <th id=\"T_87a53_level0_col3\" class=\"col_heading level0 col3\" >Cognitive Test Score</th>\n",
       "    </tr>\n",
       "  </thead>\n",
       "  <tbody>\n",
       "    <tr>\n",
       "      <th id=\"T_87a53_level0_row0\" class=\"row_heading level0 row0\" >count</th>\n",
       "      <td id=\"T_87a53_row0_col0\" class=\"data row0 col0\" >74283.000000</td>\n",
       "      <td id=\"T_87a53_row0_col1\" class=\"data row0 col1\" >74283.000000</td>\n",
       "      <td id=\"T_87a53_row0_col2\" class=\"data row0 col2\" >74283.000000</td>\n",
       "      <td id=\"T_87a53_row0_col3\" class=\"data row0 col3\" >74283.000000</td>\n",
       "    </tr>\n",
       "    <tr>\n",
       "      <th id=\"T_87a53_level0_row1\" class=\"row_heading level0 row1\" >mean</th>\n",
       "      <td id=\"T_87a53_row1_col0\" class=\"data row1 col0\" >71.964703</td>\n",
       "      <td id=\"T_87a53_row1_col1\" class=\"data row1 col1\" >9.487514</td>\n",
       "      <td id=\"T_87a53_row1_col2\" class=\"data row1 col2\" >26.780639</td>\n",
       "      <td id=\"T_87a53_row1_col3\" class=\"data row1 col3\" >64.654241</td>\n",
       "    </tr>\n",
       "    <tr>\n",
       "      <th id=\"T_87a53_level0_row2\" class=\"row_heading level0 row2\" >std</th>\n",
       "      <td id=\"T_87a53_row2_col0\" class=\"data row2 col0\" >12.980748</td>\n",
       "      <td id=\"T_87a53_row2_col1\" class=\"data row2 col1\" >5.757020</td>\n",
       "      <td id=\"T_87a53_row2_col2\" class=\"data row2 col2\" >4.764679</td>\n",
       "      <td id=\"T_87a53_row2_col3\" class=\"data row2 col3\" >20.153247</td>\n",
       "    </tr>\n",
       "    <tr>\n",
       "      <th id=\"T_87a53_level0_row3\" class=\"row_heading level0 row3\" >min</th>\n",
       "      <td id=\"T_87a53_row3_col0\" class=\"data row3 col0\" >50.000000</td>\n",
       "      <td id=\"T_87a53_row3_col1\" class=\"data row3 col1\" >0.000000</td>\n",
       "      <td id=\"T_87a53_row3_col2\" class=\"data row3 col2\" >18.500000</td>\n",
       "      <td id=\"T_87a53_row3_col3\" class=\"data row3 col3\" >30.000000</td>\n",
       "    </tr>\n",
       "    <tr>\n",
       "      <th id=\"T_87a53_level0_row4\" class=\"row_heading level0 row4\" >25%</th>\n",
       "      <td id=\"T_87a53_row4_col0\" class=\"data row4 col0\" >61.000000</td>\n",
       "      <td id=\"T_87a53_row4_col1\" class=\"data row4 col1\" >4.000000</td>\n",
       "      <td id=\"T_87a53_row4_col2\" class=\"data row4 col2\" >22.700000</td>\n",
       "      <td id=\"T_87a53_row4_col3\" class=\"data row4 col3\" >47.000000</td>\n",
       "    </tr>\n",
       "    <tr>\n",
       "      <th id=\"T_87a53_level0_row5\" class=\"row_heading level0 row5\" >50%</th>\n",
       "      <td id=\"T_87a53_row5_col0\" class=\"data row5 col0\" >72.000000</td>\n",
       "      <td id=\"T_87a53_row5_col1\" class=\"data row5 col1\" >9.000000</td>\n",
       "      <td id=\"T_87a53_row5_col2\" class=\"data row5 col2\" >26.800000</td>\n",
       "      <td id=\"T_87a53_row5_col3\" class=\"data row5 col3\" >65.000000</td>\n",
       "    </tr>\n",
       "    <tr>\n",
       "      <th id=\"T_87a53_level0_row6\" class=\"row_heading level0 row6\" >75%</th>\n",
       "      <td id=\"T_87a53_row6_col0\" class=\"data row6 col0\" >83.000000</td>\n",
       "      <td id=\"T_87a53_row6_col1\" class=\"data row6 col1\" >14.000000</td>\n",
       "      <td id=\"T_87a53_row6_col2\" class=\"data row6 col2\" >30.900000</td>\n",
       "      <td id=\"T_87a53_row6_col3\" class=\"data row6 col3\" >82.000000</td>\n",
       "    </tr>\n",
       "    <tr>\n",
       "      <th id=\"T_87a53_level0_row7\" class=\"row_heading level0 row7\" >max</th>\n",
       "      <td id=\"T_87a53_row7_col0\" class=\"data row7 col0\" >94.000000</td>\n",
       "      <td id=\"T_87a53_row7_col1\" class=\"data row7 col1\" >19.000000</td>\n",
       "      <td id=\"T_87a53_row7_col2\" class=\"data row7 col2\" >35.000000</td>\n",
       "      <td id=\"T_87a53_row7_col3\" class=\"data row7 col3\" >99.000000</td>\n",
       "    </tr>\n",
       "  </tbody>\n",
       "</table>\n"
      ],
      "text/plain": [
       "<pandas.io.formats.style.Styler at 0x2603a567f40>"
      ]
     },
     "metadata": {},
     "output_type": "display_data"
    },
    {
     "data": {
      "text/html": [
       "<style type=\"text/css\">\n",
       "</style>\n",
       "<table id=\"T_50c9b\">\n",
       "  <caption>Categorical Columns</caption>\n",
       "  <thead>\n",
       "    <tr>\n",
       "      <th class=\"blank level0\" >&nbsp;</th>\n",
       "      <th id=\"T_50c9b_level0_col0\" class=\"col_heading level0 col0\" >Country</th>\n",
       "      <th id=\"T_50c9b_level0_col1\" class=\"col_heading level0 col1\" >Gender</th>\n",
       "      <th id=\"T_50c9b_level0_col2\" class=\"col_heading level0 col2\" >Physical Activity Level</th>\n",
       "      <th id=\"T_50c9b_level0_col3\" class=\"col_heading level0 col3\" >Smoking Status</th>\n",
       "      <th id=\"T_50c9b_level0_col4\" class=\"col_heading level0 col4\" >Alcohol Consumption</th>\n",
       "      <th id=\"T_50c9b_level0_col5\" class=\"col_heading level0 col5\" >Diabetes</th>\n",
       "      <th id=\"T_50c9b_level0_col6\" class=\"col_heading level0 col6\" >Hypertension</th>\n",
       "      <th id=\"T_50c9b_level0_col7\" class=\"col_heading level0 col7\" >Cholesterol Level</th>\n",
       "      <th id=\"T_50c9b_level0_col8\" class=\"col_heading level0 col8\" >Family History of Alzheimer’s</th>\n",
       "      <th id=\"T_50c9b_level0_col9\" class=\"col_heading level0 col9\" >Depression Level</th>\n",
       "      <th id=\"T_50c9b_level0_col10\" class=\"col_heading level0 col10\" >Sleep Quality</th>\n",
       "      <th id=\"T_50c9b_level0_col11\" class=\"col_heading level0 col11\" >Dietary Habits</th>\n",
       "      <th id=\"T_50c9b_level0_col12\" class=\"col_heading level0 col12\" >Air Pollution Exposure</th>\n",
       "      <th id=\"T_50c9b_level0_col13\" class=\"col_heading level0 col13\" >Employment Status</th>\n",
       "      <th id=\"T_50c9b_level0_col14\" class=\"col_heading level0 col14\" >Marital Status</th>\n",
       "      <th id=\"T_50c9b_level0_col15\" class=\"col_heading level0 col15\" >Genetic Risk Factor (APOE-ε4 allele)</th>\n",
       "      <th id=\"T_50c9b_level0_col16\" class=\"col_heading level0 col16\" >Social Engagement Level</th>\n",
       "      <th id=\"T_50c9b_level0_col17\" class=\"col_heading level0 col17\" >Income Level</th>\n",
       "      <th id=\"T_50c9b_level0_col18\" class=\"col_heading level0 col18\" >Stress Levels</th>\n",
       "      <th id=\"T_50c9b_level0_col19\" class=\"col_heading level0 col19\" >Urban vs Rural Living</th>\n",
       "      <th id=\"T_50c9b_level0_col20\" class=\"col_heading level0 col20\" >Alzheimer’s Diagnosis</th>\n",
       "    </tr>\n",
       "  </thead>\n",
       "  <tbody>\n",
       "    <tr>\n",
       "      <th id=\"T_50c9b_level0_row0\" class=\"row_heading level0 row0\" >count</th>\n",
       "      <td id=\"T_50c9b_row0_col0\" class=\"data row0 col0\" >74283</td>\n",
       "      <td id=\"T_50c9b_row0_col1\" class=\"data row0 col1\" >74283</td>\n",
       "      <td id=\"T_50c9b_row0_col2\" class=\"data row0 col2\" >74283</td>\n",
       "      <td id=\"T_50c9b_row0_col3\" class=\"data row0 col3\" >74283</td>\n",
       "      <td id=\"T_50c9b_row0_col4\" class=\"data row0 col4\" >74283</td>\n",
       "      <td id=\"T_50c9b_row0_col5\" class=\"data row0 col5\" >74283</td>\n",
       "      <td id=\"T_50c9b_row0_col6\" class=\"data row0 col6\" >74283</td>\n",
       "      <td id=\"T_50c9b_row0_col7\" class=\"data row0 col7\" >74283</td>\n",
       "      <td id=\"T_50c9b_row0_col8\" class=\"data row0 col8\" >74283</td>\n",
       "      <td id=\"T_50c9b_row0_col9\" class=\"data row0 col9\" >74283</td>\n",
       "      <td id=\"T_50c9b_row0_col10\" class=\"data row0 col10\" >74283</td>\n",
       "      <td id=\"T_50c9b_row0_col11\" class=\"data row0 col11\" >74283</td>\n",
       "      <td id=\"T_50c9b_row0_col12\" class=\"data row0 col12\" >74283</td>\n",
       "      <td id=\"T_50c9b_row0_col13\" class=\"data row0 col13\" >74283</td>\n",
       "      <td id=\"T_50c9b_row0_col14\" class=\"data row0 col14\" >74283</td>\n",
       "      <td id=\"T_50c9b_row0_col15\" class=\"data row0 col15\" >74283</td>\n",
       "      <td id=\"T_50c9b_row0_col16\" class=\"data row0 col16\" >74283</td>\n",
       "      <td id=\"T_50c9b_row0_col17\" class=\"data row0 col17\" >74283</td>\n",
       "      <td id=\"T_50c9b_row0_col18\" class=\"data row0 col18\" >74283</td>\n",
       "      <td id=\"T_50c9b_row0_col19\" class=\"data row0 col19\" >74283</td>\n",
       "      <td id=\"T_50c9b_row0_col20\" class=\"data row0 col20\" >74283</td>\n",
       "    </tr>\n",
       "    <tr>\n",
       "      <th id=\"T_50c9b_level0_row1\" class=\"row_heading level0 row1\" >unique</th>\n",
       "      <td id=\"T_50c9b_row1_col0\" class=\"data row1 col0\" >20</td>\n",
       "      <td id=\"T_50c9b_row1_col1\" class=\"data row1 col1\" >2</td>\n",
       "      <td id=\"T_50c9b_row1_col2\" class=\"data row1 col2\" >3</td>\n",
       "      <td id=\"T_50c9b_row1_col3\" class=\"data row1 col3\" >3</td>\n",
       "      <td id=\"T_50c9b_row1_col4\" class=\"data row1 col4\" >3</td>\n",
       "      <td id=\"T_50c9b_row1_col5\" class=\"data row1 col5\" >2</td>\n",
       "      <td id=\"T_50c9b_row1_col6\" class=\"data row1 col6\" >2</td>\n",
       "      <td id=\"T_50c9b_row1_col7\" class=\"data row1 col7\" >2</td>\n",
       "      <td id=\"T_50c9b_row1_col8\" class=\"data row1 col8\" >2</td>\n",
       "      <td id=\"T_50c9b_row1_col9\" class=\"data row1 col9\" >3</td>\n",
       "      <td id=\"T_50c9b_row1_col10\" class=\"data row1 col10\" >3</td>\n",
       "      <td id=\"T_50c9b_row1_col11\" class=\"data row1 col11\" >3</td>\n",
       "      <td id=\"T_50c9b_row1_col12\" class=\"data row1 col12\" >3</td>\n",
       "      <td id=\"T_50c9b_row1_col13\" class=\"data row1 col13\" >3</td>\n",
       "      <td id=\"T_50c9b_row1_col14\" class=\"data row1 col14\" >3</td>\n",
       "      <td id=\"T_50c9b_row1_col15\" class=\"data row1 col15\" >2</td>\n",
       "      <td id=\"T_50c9b_row1_col16\" class=\"data row1 col16\" >3</td>\n",
       "      <td id=\"T_50c9b_row1_col17\" class=\"data row1 col17\" >3</td>\n",
       "      <td id=\"T_50c9b_row1_col18\" class=\"data row1 col18\" >3</td>\n",
       "      <td id=\"T_50c9b_row1_col19\" class=\"data row1 col19\" >2</td>\n",
       "      <td id=\"T_50c9b_row1_col20\" class=\"data row1 col20\" >2</td>\n",
       "    </tr>\n",
       "    <tr>\n",
       "      <th id=\"T_50c9b_level0_row2\" class=\"row_heading level0 row2\" >top</th>\n",
       "      <td id=\"T_50c9b_row2_col0\" class=\"data row2 col0\" >Brazil</td>\n",
       "      <td id=\"T_50c9b_row2_col1\" class=\"data row2 col1\" >Female</td>\n",
       "      <td id=\"T_50c9b_row2_col2\" class=\"data row2 col2\" >High</td>\n",
       "      <td id=\"T_50c9b_row2_col3\" class=\"data row2 col3\" >Current</td>\n",
       "      <td id=\"T_50c9b_row2_col4\" class=\"data row2 col4\" >Never</td>\n",
       "      <td id=\"T_50c9b_row2_col5\" class=\"data row2 col5\" >No</td>\n",
       "      <td id=\"T_50c9b_row2_col6\" class=\"data row2 col6\" >No</td>\n",
       "      <td id=\"T_50c9b_row2_col7\" class=\"data row2 col7\" >Normal</td>\n",
       "      <td id=\"T_50c9b_row2_col8\" class=\"data row2 col8\" >No</td>\n",
       "      <td id=\"T_50c9b_row2_col9\" class=\"data row2 col9\" >Medium</td>\n",
       "      <td id=\"T_50c9b_row2_col10\" class=\"data row2 col10\" >Good</td>\n",
       "      <td id=\"T_50c9b_row2_col11\" class=\"data row2 col11\" >Average</td>\n",
       "      <td id=\"T_50c9b_row2_col12\" class=\"data row2 col12\" >High</td>\n",
       "      <td id=\"T_50c9b_row2_col13\" class=\"data row2 col13\" >Unemployed</td>\n",
       "      <td id=\"T_50c9b_row2_col14\" class=\"data row2 col14\" >Single</td>\n",
       "      <td id=\"T_50c9b_row2_col15\" class=\"data row2 col15\" >No</td>\n",
       "      <td id=\"T_50c9b_row2_col16\" class=\"data row2 col16\" >Medium</td>\n",
       "      <td id=\"T_50c9b_row2_col17\" class=\"data row2 col17\" >Low</td>\n",
       "      <td id=\"T_50c9b_row2_col18\" class=\"data row2 col18\" >Medium</td>\n",
       "      <td id=\"T_50c9b_row2_col19\" class=\"data row2 col19\" >Rural</td>\n",
       "      <td id=\"T_50c9b_row2_col20\" class=\"data row2 col20\" >No</td>\n",
       "    </tr>\n",
       "    <tr>\n",
       "      <th id=\"T_50c9b_level0_row3\" class=\"row_heading level0 row3\" >freq</th>\n",
       "      <td id=\"T_50c9b_row3_col0\" class=\"data row3 col0\" >3839</td>\n",
       "      <td id=\"T_50c9b_row3_col1\" class=\"data row3 col1\" >37249</td>\n",
       "      <td id=\"T_50c9b_row3_col2\" class=\"data row3 col2\" >24853</td>\n",
       "      <td id=\"T_50c9b_row3_col3\" class=\"data row3 col3\" >24915</td>\n",
       "      <td id=\"T_50c9b_row3_col4\" class=\"data row3 col4\" >24865</td>\n",
       "      <td id=\"T_50c9b_row3_col5\" class=\"data row3 col5\" >59527</td>\n",
       "      <td id=\"T_50c9b_row3_col6\" class=\"data row3 col6\" >52134</td>\n",
       "      <td id=\"T_50c9b_row3_col7\" class=\"data row3 col7\" >51973</td>\n",
       "      <td id=\"T_50c9b_row3_col8\" class=\"data row3 col8\" >52004</td>\n",
       "      <td id=\"T_50c9b_row3_col9\" class=\"data row3 col9\" >24843</td>\n",
       "      <td id=\"T_50c9b_row3_col10\" class=\"data row3 col10\" >25145</td>\n",
       "      <td id=\"T_50c9b_row3_col11\" class=\"data row3 col11\" >24917</td>\n",
       "      <td id=\"T_50c9b_row3_col12\" class=\"data row3 col12\" >24906</td>\n",
       "      <td id=\"T_50c9b_row3_col13\" class=\"data row3 col13\" >24801</td>\n",
       "      <td id=\"T_50c9b_row3_col14\" class=\"data row3 col14\" >25169</td>\n",
       "      <td id=\"T_50c9b_row3_col15\" class=\"data row3 col15\" >59561</td>\n",
       "      <td id=\"T_50c9b_row3_col16\" class=\"data row3 col16\" >24859</td>\n",
       "      <td id=\"T_50c9b_row3_col17\" class=\"data row3 col17\" >24873</td>\n",
       "      <td id=\"T_50c9b_row3_col18\" class=\"data row3 col18\" >24886</td>\n",
       "      <td id=\"T_50c9b_row3_col19\" class=\"data row3 col19\" >37203</td>\n",
       "      <td id=\"T_50c9b_row3_col20\" class=\"data row3 col20\" >43570</td>\n",
       "    </tr>\n",
       "  </tbody>\n",
       "</table>\n"
      ],
      "text/plain": [
       "<pandas.io.formats.style.Styler at 0x2603a600280>"
      ]
     },
     "metadata": {},
     "output_type": "display_data"
    },
    {
     "name": "stdout",
     "output_type": "stream",
     "text": [
      "<class 'pandas.core.frame.DataFrame'>\n",
      "RangeIndex: 74283 entries, 0 to 74282\n",
      "Data columns (total 25 columns):\n",
      " #   Column                                Non-Null Count  Dtype  \n",
      "---  ------                                --------------  -----  \n",
      " 0   Country                               74283 non-null  object \n",
      " 1   Age                                   74283 non-null  int64  \n",
      " 2   Gender                                74283 non-null  object \n",
      " 3   Education Level                       74283 non-null  int64  \n",
      " 4   BMI                                   74283 non-null  float64\n",
      " 5   Physical Activity Level               74283 non-null  object \n",
      " 6   Smoking Status                        74283 non-null  object \n",
      " 7   Alcohol Consumption                   74283 non-null  object \n",
      " 8   Diabetes                              74283 non-null  object \n",
      " 9   Hypertension                          74283 non-null  object \n",
      " 10  Cholesterol Level                     74283 non-null  object \n",
      " 11  Family History of Alzheimer’s         74283 non-null  object \n",
      " 12  Cognitive Test Score                  74283 non-null  int64  \n",
      " 13  Depression Level                      74283 non-null  object \n",
      " 14  Sleep Quality                         74283 non-null  object \n",
      " 15  Dietary Habits                        74283 non-null  object \n",
      " 16  Air Pollution Exposure                74283 non-null  object \n",
      " 17  Employment Status                     74283 non-null  object \n",
      " 18  Marital Status                        74283 non-null  object \n",
      " 19  Genetic Risk Factor (APOE-ε4 allele)  74283 non-null  object \n",
      " 20  Social Engagement Level               74283 non-null  object \n",
      " 21  Income Level                          74283 non-null  object \n",
      " 22  Stress Levels                         74283 non-null  object \n",
      " 23  Urban vs Rural Living                 74283 non-null  object \n",
      " 24  Alzheimer’s Diagnosis                 74283 non-null  object \n",
      "dtypes: float64(1), int64(3), object(21)\n",
      "memory usage: 14.2+ MB\n"
     ]
    },
    {
     "data": {
      "text/plain": [
       "None"
      ]
     },
     "metadata": {},
     "output_type": "display_data"
    }
   ],
   "source": [
    "display(alzheimers.describe().style.set_caption(\"Numerical Columns\"))\n",
    "display(alzheimers.select_dtypes(include=\"object\").describe().style.set_caption(\"Categorical Columns\"))\n",
    "display(alzheimers.info())"
   ]
  },
  {
   "cell_type": "markdown",
   "metadata": {},
   "source": [
    "This dataset appears to be very clean.\n",
    "- No missing values, the row counts for each attribute remain consistent for all.\n",
    "- Data types appear as expected.\n",
    "- Frequency counts for categorical variables show a good distribution for each."
   ]
  },
  {
   "cell_type": "markdown",
   "metadata": {},
   "source": [
    "### Univariate Analysis (TODO)"
   ]
  },
  {
   "cell_type": "markdown",
   "metadata": {},
   "source": [
    "# Preprocessing and Feature Engineering"
   ]
  },
  {
   "cell_type": "code",
   "execution_count": null,
   "metadata": {},
   "outputs": [
    {
     "data": {
      "text/html": [
       "<style type=\"text/css\">\n",
       "</style>\n",
       "<table id=\"T_93df5\">\n",
       "  <caption>Numerical Columns</caption>\n",
       "  <thead>\n",
       "    <tr>\n",
       "      <th class=\"blank level0\" >&nbsp;</th>\n",
       "      <th id=\"T_93df5_level0_col0\" class=\"col_heading level0 col0\" >Age</th>\n",
       "      <th id=\"T_93df5_level0_col1\" class=\"col_heading level0 col1\" >Education Level</th>\n",
       "      <th id=\"T_93df5_level0_col2\" class=\"col_heading level0 col2\" >BMI</th>\n",
       "      <th id=\"T_93df5_level0_col3\" class=\"col_heading level0 col3\" >Cognitive Test Score</th>\n",
       "    </tr>\n",
       "  </thead>\n",
       "  <tbody>\n",
       "    <tr>\n",
       "      <th id=\"T_93df5_level0_row0\" class=\"row_heading level0 row0\" >count</th>\n",
       "      <td id=\"T_93df5_row0_col0\" class=\"data row0 col0\" >74283.000000</td>\n",
       "      <td id=\"T_93df5_row0_col1\" class=\"data row0 col1\" >74283.000000</td>\n",
       "      <td id=\"T_93df5_row0_col2\" class=\"data row0 col2\" >74283.000000</td>\n",
       "      <td id=\"T_93df5_row0_col3\" class=\"data row0 col3\" >74283.000000</td>\n",
       "    </tr>\n",
       "    <tr>\n",
       "      <th id=\"T_93df5_level0_row1\" class=\"row_heading level0 row1\" >mean</th>\n",
       "      <td id=\"T_93df5_row1_col0\" class=\"data row1 col0\" >0.000000</td>\n",
       "      <td id=\"T_93df5_row1_col1\" class=\"data row1 col1\" >0.000000</td>\n",
       "      <td id=\"T_93df5_row1_col2\" class=\"data row1 col2\" >-0.000000</td>\n",
       "      <td id=\"T_93df5_row1_col3\" class=\"data row1 col3\" >-0.000000</td>\n",
       "    </tr>\n",
       "    <tr>\n",
       "      <th id=\"T_93df5_level0_row2\" class=\"row_heading level0 row2\" >std</th>\n",
       "      <td id=\"T_93df5_row2_col0\" class=\"data row2 col0\" >1.000007</td>\n",
       "      <td id=\"T_93df5_row2_col1\" class=\"data row2 col1\" >1.000007</td>\n",
       "      <td id=\"T_93df5_row2_col2\" class=\"data row2 col2\" >1.000007</td>\n",
       "      <td id=\"T_93df5_row2_col3\" class=\"data row2 col3\" >1.000007</td>\n",
       "    </tr>\n",
       "    <tr>\n",
       "      <th id=\"T_93df5_level0_row3\" class=\"row_heading level0 row3\" >min</th>\n",
       "      <td id=\"T_93df5_row3_col0\" class=\"data row3 col0\" >-1.692110</td>\n",
       "      <td id=\"T_93df5_row3_col1\" class=\"data row3 col1\" >-1.648002</td>\n",
       "      <td id=\"T_93df5_row3_col2\" class=\"data row3 col2\" >-1.737933</td>\n",
       "      <td id=\"T_93df5_row3_col3\" class=\"data row3 col3\" >-1.719548</td>\n",
       "    </tr>\n",
       "    <tr>\n",
       "      <th id=\"T_93df5_level0_row4\" class=\"row_heading level0 row4\" >25%</th>\n",
       "      <td id=\"T_93df5_row4_col0\" class=\"data row4 col0\" >-0.844695</td>\n",
       "      <td id=\"T_93df5_row4_col1\" class=\"data row4 col1\" >-0.953193</td>\n",
       "      <td id=\"T_93df5_row4_col2\" class=\"data row4 col2\" >-0.856441</td>\n",
       "      <td id=\"T_93df5_row4_col3\" class=\"data row4 col3\" >-0.876006</td>\n",
       "    </tr>\n",
       "    <tr>\n",
       "      <th id=\"T_93df5_level0_row5\" class=\"row_heading level0 row5\" >50%</th>\n",
       "      <td id=\"T_93df5_row5_col0\" class=\"data row5 col0\" >0.002719</td>\n",
       "      <td id=\"T_93df5_row5_col1\" class=\"data row5 col1\" >-0.084682</td>\n",
       "      <td id=\"T_93df5_row5_col2\" class=\"data row5 col2\" >0.004063</td>\n",
       "      <td id=\"T_93df5_row5_col3\" class=\"data row5 col3\" >0.017157</td>\n",
       "    </tr>\n",
       "    <tr>\n",
       "      <th id=\"T_93df5_level0_row6\" class=\"row_heading level0 row6\" >75%</th>\n",
       "      <td id=\"T_93df5_row6_col0\" class=\"data row6 col0\" >0.850134</td>\n",
       "      <td id=\"T_93df5_row6_col1\" class=\"data row6 col1\" >0.783828</td>\n",
       "      <td id=\"T_93df5_row6_col2\" class=\"data row6 col2\" >0.864568</td>\n",
       "      <td id=\"T_93df5_row6_col3\" class=\"data row6 col3\" >0.860699</td>\n",
       "    </tr>\n",
       "    <tr>\n",
       "      <th id=\"T_93df5_level0_row7\" class=\"row_heading level0 row7\" >max</th>\n",
       "      <td id=\"T_93df5_row7_col0\" class=\"data row7 col0\" >1.697548</td>\n",
       "      <td id=\"T_93df5_row7_col1\" class=\"data row7 col1\" >1.652339</td>\n",
       "      <td id=\"T_93df5_row7_col2\" class=\"data row7 col2\" >1.725072</td>\n",
       "      <td id=\"T_93df5_row7_col3\" class=\"data row7 col3\" >1.704241</td>\n",
       "    </tr>\n",
       "  </tbody>\n",
       "</table>\n"
      ],
      "text/plain": [
       "<pandas.io.formats.style.Styler at 0x16907b4ab00>"
      ]
     },
     "metadata": {},
     "output_type": "display_data"
    }
   ],
   "source": [
    "# Standardization of numerical features\n",
    "from sklearn.preprocessing import StandardScaler\n",
    "\n",
    "def standardize_numerical_columns(data: pd.DataFrame) -> pd.DataFrame:\n",
    "    numerical_columns = data.select_dtypes(include = \"number\")\n",
    "    data[numerical_columns.columns] = StandardScaler().fit_transform(numerical_columns)\n",
    "    return data\n",
    "\n",
    "alz_standardized = standardize_numerical_columns(alzheimers)\n",
    "display(alzheimers.describe().style.set_caption(\"Numerical Columns\"))"
   ]
  },
  {
   "cell_type": "code",
   "execution_count": null,
   "metadata": {},
   "outputs": [],
   "source": [
    "# TODO Preprocess the categorial columns:\n",
    "# Potentially: Ordinal encode the \"ordered\" attributes EX: Depression Level -> {'Low': 0, 'Medium': 1, 'High': 2}\n",
    "# Label encode the nominal binary stuff EX: Gender -> {'Male': 0, 'Female': 1}\n",
    "# One hot encode / frequency encode / target encode for other nominal attributes\n",
    "# Balance our target variable. Currently using stratified k-fold to compensate"
   ]
  },
  {
   "cell_type": "markdown",
   "metadata": {},
   "source": [
    "# Modeling"
   ]
  },
  {
   "cell_type": "markdown",
   "metadata": {},
   "source": [
    "### CV strategy functions\n",
    "\n",
    "Currently only using basic train test split validation. TODO: implement more comprehensive k-fold strategies, such as stratified k-fold."
   ]
  },
  {
   "cell_type": "code",
   "execution_count": 9,
   "metadata": {},
   "outputs": [],
   "source": [
    "from sklearn.model_selection import train_test_split\n",
    "import numpy as np\n",
    "\n",
    "def basic_tt_split_validation(X, y, model, train_size = 0.80):\n",
    "    X_train, X_test, y_train, y_test = train_test_split(X, y, train_size = train_size)\n",
    "    model.fit(X_train, y_train)\n",
    "    predictions = model.predict(X_test)\n",
    "    accuracy = np.sum(predictions == y_test) / predictions.__len__()\n",
    "    return accuracy"
   ]
  },
  {
   "cell_type": "markdown",
   "metadata": {},
   "source": [
    "### Random Forest Model"
   ]
  },
  {
   "cell_type": "code",
   "execution_count": null,
   "metadata": {},
   "outputs": [
    {
     "name": "stdout",
     "output_type": "stream",
     "text": [
      "Accuracy of RF model: 0.6821700208655852\n",
      "Time taken: 12.682744299992919 (s)\n"
     ]
    }
   ],
   "source": [
    "from sklearn.ensemble import RandomForestClassifier\n",
    "import time\n",
    "\n",
    "start_time = time.perf_counter()\n",
    "\n",
    "rf_classifier = RandomForestClassifier()\n",
    "\n",
    "# Currently just using numerical values\n",
    "numerical_data = alz_standardized[alz_standardized.select_dtypes(include='number').columns]\n",
    "target = alz_standardized['Alzheimer’s Diagnosis']\n",
    "accuracy = basic_tt_split_validation(numerical_data, target, rf_classifier)\n",
    "\n",
    "end_time = time.perf_counter()\n",
    "\n",
    "print(\"Accuracy of RF model:\", accuracy)\n",
    "print(\"Time taken:\", end_time - start_time, \"(s)\")"
   ]
  }
 ],
 "metadata": {
  "kernelspec": {
   "display_name": "env",
   "language": "python",
   "name": "python3"
  },
  "language_info": {
   "codemirror_mode": {
    "name": "ipython",
    "version": 3
   },
   "file_extension": ".py",
   "mimetype": "text/x-python",
   "name": "python",
   "nbconvert_exporter": "python",
   "pygments_lexer": "ipython3",
   "version": "3.10.4"
  }
 },
 "nbformat": 4,
 "nbformat_minor": 2
}
